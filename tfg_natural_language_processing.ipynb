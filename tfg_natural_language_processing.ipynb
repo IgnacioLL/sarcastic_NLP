{
  "metadata": {
    "kernelspec": {
      "language": "python",
      "display_name": "Python 3",
      "name": "python3"
    },
    "language_info": {
      "name": "python",
      "version": "3.7.12",
      "mimetype": "text/x-python",
      "codemirror_mode": {
        "name": "ipython",
        "version": 3
      },
      "pygments_lexer": "ipython3",
      "nbconvert_exporter": "python",
      "file_extension": ".py"
    },
    "colab": {
      "provenance": []
    },
    "accelerator": "GPU",
    "gpuClass": "standard"
  },
  "nbformat_minor": 0,
  "nbformat": 4,
  "cells": [
    {
      "cell_type": "markdown",
      "source": [
        "### Import modules"
      ],
      "metadata": {
        "id": "NQz6AE0TJIm1"
      }
    },
    {
      "cell_type": "code",
      "source": [
        "from google.colab import drive\n",
        "drive.mount('/content/drive')"
      ],
      "metadata": {
        "colab": {
          "base_uri": "https://localhost:8080/"
        },
        "id": "O-l_dIw8QF2t",
        "outputId": "e4fe57c4-4ef1-4e97-fcf5-081a1594f62d"
      },
      "execution_count": null,
      "outputs": [
        {
          "output_type": "stream",
          "name": "stdout",
          "text": [
            "Drive already mounted at /content/drive; to attempt to forcibly remount, call drive.mount(\"/content/drive\", force_remount=True).\n"
          ]
        }
      ]
    },
    {
      "cell_type": "code",
      "source": [
        "!pip install tensorflow-gpu==2.4"
      ],
      "metadata": {
        "execution": {
          "iopub.status.busy": "2022-06-18T18:40:35.238035Z",
          "iopub.execute_input": "2022-06-18T18:40:35.238431Z",
          "iopub.status.idle": "2022-06-18T18:41:44.010416Z",
          "shell.execute_reply.started": "2022-06-18T18:40:35.238399Z",
          "shell.execute_reply": "2022-06-18T18:41:44.009344Z"
        },
        "trusted": true,
        "colab": {
          "base_uri": "https://localhost:8080/"
        },
        "id": "jsfWle-MJIm5",
        "outputId": "4992a5e3-c9a4-4e4b-af92-5bbc0fb5a937"
      },
      "execution_count": null,
      "outputs": [
        {
          "output_type": "stream",
          "name": "stdout",
          "text": [
            "Looking in indexes: https://pypi.org/simple, https://us-python.pkg.dev/colab-wheels/public/simple/\n",
            "Requirement already satisfied: tensorflow-gpu==2.4 in /usr/local/lib/python3.7/dist-packages (2.4.0)\n",
            "Requirement already satisfied: six~=1.15.0 in /usr/local/lib/python3.7/dist-packages (from tensorflow-gpu==2.4) (1.15.0)\n",
            "Requirement already satisfied: tensorflow-estimator<2.5.0,>=2.4.0rc0 in /usr/local/lib/python3.7/dist-packages (from tensorflow-gpu==2.4) (2.4.0)\n",
            "Requirement already satisfied: flatbuffers~=1.12.0 in /usr/local/lib/python3.7/dist-packages (from tensorflow-gpu==2.4) (1.12)\n",
            "Requirement already satisfied: tensorboard~=2.4 in /usr/local/lib/python3.7/dist-packages (from tensorflow-gpu==2.4) (2.8.0)\n",
            "Requirement already satisfied: protobuf>=3.9.2 in /usr/local/lib/python3.7/dist-packages (from tensorflow-gpu==2.4) (3.17.3)\n",
            "Requirement already satisfied: h5py~=2.10.0 in /usr/local/lib/python3.7/dist-packages (from tensorflow-gpu==2.4) (2.10.0)\n",
            "Requirement already satisfied: termcolor~=1.1.0 in /usr/local/lib/python3.7/dist-packages (from tensorflow-gpu==2.4) (1.1.0)\n",
            "Requirement already satisfied: grpcio~=1.32.0 in /usr/local/lib/python3.7/dist-packages (from tensorflow-gpu==2.4) (1.32.0)\n",
            "Requirement already satisfied: gast==0.3.3 in /usr/local/lib/python3.7/dist-packages (from tensorflow-gpu==2.4) (0.3.3)\n",
            "Requirement already satisfied: astunparse~=1.6.3 in /usr/local/lib/python3.7/dist-packages (from tensorflow-gpu==2.4) (1.6.3)\n",
            "Requirement already satisfied: wheel~=0.35 in /usr/local/lib/python3.7/dist-packages (from tensorflow-gpu==2.4) (0.37.1)\n",
            "Requirement already satisfied: wrapt~=1.12.1 in /usr/local/lib/python3.7/dist-packages (from tensorflow-gpu==2.4) (1.12.1)\n",
            "Requirement already satisfied: opt-einsum~=3.3.0 in /usr/local/lib/python3.7/dist-packages (from tensorflow-gpu==2.4) (3.3.0)\n",
            "Requirement already satisfied: absl-py~=0.10 in /usr/local/lib/python3.7/dist-packages (from tensorflow-gpu==2.4) (0.15.0)\n",
            "Requirement already satisfied: typing-extensions~=3.7.4 in /usr/local/lib/python3.7/dist-packages (from tensorflow-gpu==2.4) (3.7.4.3)\n",
            "Requirement already satisfied: numpy~=1.19.2 in /usr/local/lib/python3.7/dist-packages (from tensorflow-gpu==2.4) (1.19.5)\n",
            "Requirement already satisfied: keras-preprocessing~=1.1.2 in /usr/local/lib/python3.7/dist-packages (from tensorflow-gpu==2.4) (1.1.2)\n",
            "Requirement already satisfied: google-pasta~=0.2 in /usr/local/lib/python3.7/dist-packages (from tensorflow-gpu==2.4) (0.2.0)\n",
            "Requirement already satisfied: tensorboard-data-server<0.7.0,>=0.6.0 in /usr/local/lib/python3.7/dist-packages (from tensorboard~=2.4->tensorflow-gpu==2.4) (0.6.1)\n",
            "Requirement already satisfied: werkzeug>=0.11.15 in /usr/local/lib/python3.7/dist-packages (from tensorboard~=2.4->tensorflow-gpu==2.4) (1.0.1)\n",
            "Requirement already satisfied: google-auth-oauthlib<0.5,>=0.4.1 in /usr/local/lib/python3.7/dist-packages (from tensorboard~=2.4->tensorflow-gpu==2.4) (0.4.6)\n",
            "Requirement already satisfied: markdown>=2.6.8 in /usr/local/lib/python3.7/dist-packages (from tensorboard~=2.4->tensorflow-gpu==2.4) (3.4.1)\n",
            "Requirement already satisfied: tensorboard-plugin-wit>=1.6.0 in /usr/local/lib/python3.7/dist-packages (from tensorboard~=2.4->tensorflow-gpu==2.4) (1.8.1)\n",
            "Requirement already satisfied: requests<3,>=2.21.0 in /usr/local/lib/python3.7/dist-packages (from tensorboard~=2.4->tensorflow-gpu==2.4) (2.23.0)\n",
            "Requirement already satisfied: setuptools>=41.0.0 in /usr/local/lib/python3.7/dist-packages (from tensorboard~=2.4->tensorflow-gpu==2.4) (57.4.0)\n",
            "Requirement already satisfied: google-auth<3,>=1.6.3 in /usr/local/lib/python3.7/dist-packages (from tensorboard~=2.4->tensorflow-gpu==2.4) (1.35.0)\n",
            "Requirement already satisfied: rsa<5,>=3.1.4 in /usr/local/lib/python3.7/dist-packages (from google-auth<3,>=1.6.3->tensorboard~=2.4->tensorflow-gpu==2.4) (4.8)\n",
            "Requirement already satisfied: pyasn1-modules>=0.2.1 in /usr/local/lib/python3.7/dist-packages (from google-auth<3,>=1.6.3->tensorboard~=2.4->tensorflow-gpu==2.4) (0.2.8)\n",
            "Requirement already satisfied: cachetools<5.0,>=2.0.0 in /usr/local/lib/python3.7/dist-packages (from google-auth<3,>=1.6.3->tensorboard~=2.4->tensorflow-gpu==2.4) (4.2.4)\n",
            "Requirement already satisfied: requests-oauthlib>=0.7.0 in /usr/local/lib/python3.7/dist-packages (from google-auth-oauthlib<0.5,>=0.4.1->tensorboard~=2.4->tensorflow-gpu==2.4) (1.3.1)\n",
            "Requirement already satisfied: importlib-metadata>=4.4 in /usr/local/lib/python3.7/dist-packages (from markdown>=2.6.8->tensorboard~=2.4->tensorflow-gpu==2.4) (4.12.0)\n",
            "Requirement already satisfied: zipp>=0.5 in /usr/local/lib/python3.7/dist-packages (from importlib-metadata>=4.4->markdown>=2.6.8->tensorboard~=2.4->tensorflow-gpu==2.4) (3.8.1)\n",
            "Requirement already satisfied: pyasn1<0.5.0,>=0.4.6 in /usr/local/lib/python3.7/dist-packages (from pyasn1-modules>=0.2.1->google-auth<3,>=1.6.3->tensorboard~=2.4->tensorflow-gpu==2.4) (0.4.8)\n",
            "Requirement already satisfied: urllib3!=1.25.0,!=1.25.1,<1.26,>=1.21.1 in /usr/local/lib/python3.7/dist-packages (from requests<3,>=2.21.0->tensorboard~=2.4->tensorflow-gpu==2.4) (1.24.3)\n",
            "Requirement already satisfied: idna<3,>=2.5 in /usr/local/lib/python3.7/dist-packages (from requests<3,>=2.21.0->tensorboard~=2.4->tensorflow-gpu==2.4) (2.10)\n",
            "Requirement already satisfied: certifi>=2017.4.17 in /usr/local/lib/python3.7/dist-packages (from requests<3,>=2.21.0->tensorboard~=2.4->tensorflow-gpu==2.4) (2022.6.15)\n",
            "Requirement already satisfied: chardet<4,>=3.0.2 in /usr/local/lib/python3.7/dist-packages (from requests<3,>=2.21.0->tensorboard~=2.4->tensorflow-gpu==2.4) (3.0.4)\n",
            "Requirement already satisfied: oauthlib>=3.0.0 in /usr/local/lib/python3.7/dist-packages (from requests-oauthlib>=0.7.0->google-auth-oauthlib<0.5,>=0.4.1->tensorboard~=2.4->tensorflow-gpu==2.4) (3.2.0)\n"
          ]
        }
      ]
    },
    {
      "cell_type": "code",
      "source": [
        "!pip install transformers"
      ],
      "metadata": {
        "colab": {
          "base_uri": "https://localhost:8080/"
        },
        "id": "sifoZOXjQlok",
        "outputId": "b4588407-82c0-4818-d407-d9579b147fd7"
      },
      "execution_count": null,
      "outputs": [
        {
          "output_type": "stream",
          "name": "stdout",
          "text": [
            "Looking in indexes: https://pypi.org/simple, https://us-python.pkg.dev/colab-wheels/public/simple/\n",
            "Requirement already satisfied: transformers in /usr/local/lib/python3.7/dist-packages (4.20.1)\n",
            "Requirement already satisfied: regex!=2019.12.17 in /usr/local/lib/python3.7/dist-packages (from transformers) (2022.6.2)\n",
            "Requirement already satisfied: pyyaml>=5.1 in /usr/local/lib/python3.7/dist-packages (from transformers) (6.0)\n",
            "Requirement already satisfied: requests in /usr/local/lib/python3.7/dist-packages (from transformers) (2.23.0)\n",
            "Requirement already satisfied: importlib-metadata in /usr/local/lib/python3.7/dist-packages (from transformers) (4.12.0)\n",
            "Requirement already satisfied: numpy>=1.17 in /usr/local/lib/python3.7/dist-packages (from transformers) (1.19.5)\n",
            "Requirement already satisfied: packaging>=20.0 in /usr/local/lib/python3.7/dist-packages (from transformers) (21.3)\n",
            "Requirement already satisfied: tqdm>=4.27 in /usr/local/lib/python3.7/dist-packages (from transformers) (4.64.0)\n",
            "Requirement already satisfied: huggingface-hub<1.0,>=0.1.0 in /usr/local/lib/python3.7/dist-packages (from transformers) (0.8.1)\n",
            "Requirement already satisfied: filelock in /usr/local/lib/python3.7/dist-packages (from transformers) (3.7.1)\n",
            "Requirement already satisfied: tokenizers!=0.11.3,<0.13,>=0.11.1 in /usr/local/lib/python3.7/dist-packages (from transformers) (0.12.1)\n",
            "Requirement already satisfied: typing-extensions>=3.7.4.3 in /usr/local/lib/python3.7/dist-packages (from huggingface-hub<1.0,>=0.1.0->transformers) (3.7.4.3)\n",
            "Requirement already satisfied: pyparsing!=3.0.5,>=2.0.2 in /usr/local/lib/python3.7/dist-packages (from packaging>=20.0->transformers) (3.0.9)\n",
            "Requirement already satisfied: zipp>=0.5 in /usr/local/lib/python3.7/dist-packages (from importlib-metadata->transformers) (3.8.1)\n",
            "Requirement already satisfied: chardet<4,>=3.0.2 in /usr/local/lib/python3.7/dist-packages (from requests->transformers) (3.0.4)\n",
            "Requirement already satisfied: urllib3!=1.25.0,!=1.25.1,<1.26,>=1.21.1 in /usr/local/lib/python3.7/dist-packages (from requests->transformers) (1.24.3)\n",
            "Requirement already satisfied: certifi>=2017.4.17 in /usr/local/lib/python3.7/dist-packages (from requests->transformers) (2022.6.15)\n",
            "Requirement already satisfied: idna<3,>=2.5 in /usr/local/lib/python3.7/dist-packages (from requests->transformers) (2.10)\n"
          ]
        }
      ]
    },
    {
      "cell_type": "code",
      "source": [
        "# pip install -q tf-models-official==2.4.0"
      ],
      "metadata": {
        "execution": {
          "iopub.status.busy": "2022-06-18T18:41:49.188434Z",
          "iopub.execute_input": "2022-06-18T18:41:49.189105Z",
          "iopub.status.idle": "2022-06-18T18:41:49.192884Z",
          "shell.execute_reply.started": "2022-06-18T18:41:49.189067Z",
          "shell.execute_reply": "2022-06-18T18:41:49.192155Z"
        },
        "trusted": true,
        "id": "42rWc-EGJIm5"
      },
      "execution_count": null,
      "outputs": []
    },
    {
      "cell_type": "code",
      "source": [
        "import pandas as pd\n",
        "import numpy as np\n",
        "import torch\n",
        "import tensorflow as tf\n",
        "\n",
        "gpus = tf.config.experimental.list_physical_devices(device_type='GPU')\n",
        "tf.config.experimental.set_visible_devices(devices=gpus[0], device_type='GPU')\n",
        "tf.config.experimental.set_memory_growth(device=gpus[0], enable=True)\n",
        "\n",
        "import seaborn as sns\n",
        "import re\n",
        "\n",
        "import wordcloud\n",
        "from wordcloud import WordCloud\n",
        "\n",
        "import matplotlib.pyplot as plt\n",
        "\n",
        "import collections\n",
        "\n",
        "from sklearn import preprocessing\n",
        "\n",
        "import nltk\n",
        "from nltk.corpus import stopwords\n",
        "from nltk.stem import WordNetLemmatizer\n",
        "\n",
        "import pandas as pd\n",
        "import numpy as np\n",
        "\n",
        "import matplotlib.pyplot as plt\n",
        "from sklearn.model_selection import train_test_split\n",
        "import time\n",
        "\n",
        "from tensorflow.keras.preprocessing.sequence import pad_sequences\n",
        "\n",
        "import matplotlib as mlp\n",
        "import matplotlib.pyplot as plt\n",
        "import seaborn as sns\n",
        "\n",
        "from tensorflow.keras.layers import Dense, LSTM, Dropout, Embedding, GlobalMaxPool1D, Bidirectional,Input,GlobalAveragePooling1D, BatchNormalization, Conv1D,GRU\n",
        "from tensorflow.keras.preprocessing.text import Tokenizer\n",
        "from tensorflow.keras.utils import to_categorical\n",
        "from tensorflow.keras.callbacks import EarlyStopping, ModelCheckpoint,ReduceLROnPlateau\n",
        "from tensorflow.keras.models import Sequential,Model\n",
        "\n",
        "\n",
        "import transformers\n",
        "from transformers import AutoTokenizer,TFAutoModel, get_linear_schedule_with_warmup\n",
        "    \n"
      ],
      "metadata": {
        "_uuid": "8f2839f25d086af736a60e9eeb907d3b93b6e0e5",
        "_cell_guid": "b1076dfc-b9ad-4769-8c92-a6c4dae69d19",
        "execution": {
          "iopub.status.busy": "2022-06-18T18:41:49.603719Z",
          "iopub.execute_input": "2022-06-18T18:41:49.604338Z",
          "iopub.status.idle": "2022-06-18T18:41:50.272258Z",
          "shell.execute_reply.started": "2022-06-18T18:41:49.604303Z",
          "shell.execute_reply": "2022-06-18T18:41:50.271298Z"
        },
        "trusted": true,
        "id": "KO8SooCHJIm6"
      },
      "execution_count": null,
      "outputs": []
    },
    {
      "cell_type": "code",
      "source": [],
      "metadata": {
        "id": "Cvwr5xeL035h"
      },
      "execution_count": null,
      "outputs": []
    },
    {
      "cell_type": "markdown",
      "source": [
        "#### Parameters"
      ],
      "metadata": {
        "id": "9nyv-DFfJIm6"
      }
    },
    {
      "cell_type": "markdown",
      "source": [
        "### Functions"
      ],
      "metadata": {
        "id": "HCps9hrsJIm7"
      }
    },
    {
      "cell_type": "markdown",
      "source": [
        "#### Reading"
      ],
      "metadata": {
        "id": "fIii_yRpJIm7"
      }
    },
    {
      "cell_type": "code",
      "source": [
        "sarcasm_training = \"/content/drive/MyDrive/TFG/data/train.csv\"\n",
        "sarcasm_testing = \"/content/drive/MyDrive/TFG/data/test.csv\"\n",
        "\n",
        "df_training = pd.read_csv(sarcasm_training)\n",
        "df_testing = pd.read_csv(sarcasm_testing)"
      ],
      "metadata": {
        "execution": {
          "iopub.status.busy": "2022-06-18T18:41:51.742340Z",
          "iopub.execute_input": "2022-06-18T18:41:51.742708Z",
          "iopub.status.idle": "2022-06-18T18:41:51.793330Z",
          "shell.execute_reply.started": "2022-06-18T18:41:51.742678Z",
          "shell.execute_reply": "2022-06-18T18:41:51.792572Z"
        },
        "trusted": true,
        "id": "SY2A083nJIm7"
      },
      "execution_count": null,
      "outputs": []
    },
    {
      "cell_type": "code",
      "source": [
        "print(df_training.columns)\n",
        "print(df_training.count()) ## small dataset"
      ],
      "metadata": {
        "execution": {
          "iopub.status.busy": "2022-06-18T18:41:51.866019Z",
          "iopub.execute_input": "2022-06-18T18:41:51.867828Z",
          "iopub.status.idle": "2022-06-18T18:41:51.879485Z",
          "shell.execute_reply.started": "2022-06-18T18:41:51.867798Z",
          "shell.execute_reply": "2022-06-18T18:41:51.878001Z"
        },
        "trusted": true,
        "colab": {
          "base_uri": "https://localhost:8080/"
        },
        "id": "xUZlfYHHJIm8",
        "outputId": "561e984b-4c79-4311-c06c-366e0cccec4b"
      },
      "execution_count": null,
      "outputs": [
        {
          "output_type": "stream",
          "name": "stdout",
          "text": [
            "Index(['Y', 'text'], dtype='object')\n",
            "Y       20033\n",
            "text    20033\n",
            "dtype: int64\n"
          ]
        }
      ]
    },
    {
      "cell_type": "code",
      "source": [
        "df_training.isnull().sum()/df_training.count() ## no nulls"
      ],
      "metadata": {
        "execution": {
          "iopub.status.busy": "2022-06-18T18:41:52.025785Z",
          "iopub.execute_input": "2022-06-18T18:41:52.026574Z",
          "iopub.status.idle": "2022-06-18T18:41:52.041676Z",
          "shell.execute_reply.started": "2022-06-18T18:41:52.026525Z",
          "shell.execute_reply": "2022-06-18T18:41:52.040854Z"
        },
        "trusted": true,
        "colab": {
          "base_uri": "https://localhost:8080/"
        },
        "id": "ibdxEavGJIm8",
        "outputId": "3e6cfb0b-4fba-4659-91d7-09c32e312ec2"
      },
      "execution_count": null,
      "outputs": [
        {
          "output_type": "execute_result",
          "data": {
            "text/plain": [
              "Y       0.0\n",
              "text    0.0\n",
              "dtype: float64"
            ]
          },
          "metadata": {},
          "execution_count": 50
        }
      ]
    },
    {
      "cell_type": "code",
      "source": [
        "print(df_training.describe())  ## balancing data might not be a bad idea"
      ],
      "metadata": {
        "execution": {
          "iopub.status.busy": "2022-06-18T18:41:52.291866Z",
          "iopub.execute_input": "2022-06-18T18:41:52.292703Z",
          "iopub.status.idle": "2022-06-18T18:41:52.306419Z",
          "shell.execute_reply.started": "2022-06-18T18:41:52.292670Z",
          "shell.execute_reply": "2022-06-18T18:41:52.305283Z"
        },
        "trusted": true,
        "colab": {
          "base_uri": "https://localhost:8080/"
        },
        "id": "iKCWD-GJJIm8",
        "outputId": "fc29807b-9445-4a0a-896e-bb7e8b7de53d"
      },
      "execution_count": null,
      "outputs": [
        {
          "output_type": "stream",
          "name": "stdout",
          "text": [
            "                  Y\n",
            "count  20033.000000\n",
            "mean       0.476913\n",
            "std        0.499479\n",
            "min        0.000000\n",
            "25%        0.000000\n",
            "50%        0.000000\n",
            "75%        1.000000\n",
            "max        1.000000\n"
          ]
        }
      ]
    },
    {
      "cell_type": "code",
      "source": [
        "(df_training['text'].apply(lambda x: len(str(x))) > 800).sum()"
      ],
      "metadata": {
        "colab": {
          "base_uri": "https://localhost:8080/"
        },
        "id": "B8JwMWkA3wWn",
        "outputId": "f6b637aa-fad8-49bf-a14f-8a0c676325ab"
      },
      "execution_count": null,
      "outputs": [
        {
          "output_type": "execute_result",
          "data": {
            "text/plain": [
              "1"
            ]
          },
          "metadata": {},
          "execution_count": 52
        }
      ]
    },
    {
      "cell_type": "code",
      "source": [
        "sns.boxplot(y=df_training['text'].apply(lambda x: str.split(x)).apply(lambda x: len(x))) ## about 20 words per sentence should be okay for padding \n"
      ],
      "metadata": {
        "execution": {
          "iopub.status.busy": "2022-06-18T18:41:52.522828Z",
          "iopub.execute_input": "2022-06-18T18:41:52.523151Z",
          "iopub.status.idle": "2022-06-18T18:41:52.709635Z",
          "shell.execute_reply.started": "2022-06-18T18:41:52.523125Z",
          "shell.execute_reply": "2022-06-18T18:41:52.708800Z"
        },
        "trusted": true,
        "colab": {
          "base_uri": "https://localhost:8080/",
          "height": 269
        },
        "id": "rTvySoRFJIm8",
        "outputId": "6bffc4f1-3256-4425-a964-6b23ee536385"
      },
      "execution_count": null,
      "outputs": [
        {
          "output_type": "execute_result",
          "data": {
            "text/plain": [
              "<matplotlib.axes._subplots.AxesSubplot at 0x7fe5b8055d10>"
            ]
          },
          "metadata": {},
          "execution_count": 53
        },
        {
          "output_type": "display_data",
          "data": {
            "text/plain": [
              "<Figure size 432x288 with 1 Axes>"
            ],
            "image/png": "[encoded data removed]"
          },
          "metadata": {
            "needs_background": "light"
          }
        }
      ]
    },
    {
      "cell_type": "code",
      "source": [
        "sns.boxplot(y=df_training['text'].apply(lambda x: str.split(x)).apply(lambda x: len(x) if len(x) < 140 else 10)) ## about 20 words per sentence should be okay for padding "
      ],
      "metadata": {
        "colab": {
          "base_uri": "https://localhost:8080/",
          "height": 269
        },
        "id": "q-6MCDCn6VuD",
        "outputId": "7425fcb1-0da1-497f-9482-44cd344c8584"
      },
      "execution_count": null,
      "outputs": [
        {
          "output_type": "execute_result",
          "data": {
            "text/plain": [
              "<matplotlib.axes._subplots.AxesSubplot at 0x7fe613770a50>"
            ]
          },
          "metadata": {},
          "execution_count": 54
        },
        {
          "output_type": "display_data",
          "data": {
            "text/plain": [
              "<Figure size 432x288 with 1 Axes>"
            ],
            "image/png": "[encoded data removed]"
          },
          "metadata": {
            "needs_background": "light"
          }
        }
      ]
    },
    {
      "cell_type": "code",
      "source": [
        "sns.boxplot(y=df_training['text'].apply(lambda x:  len(x) if len(x) < 800 else 60))"
      ],
      "metadata": {
        "colab": {
          "base_uri": "https://localhost:8080/",
          "height": 270
        },
        "id": "1TFMLd4M3MYl",
        "outputId": "3c84868f-33d5-49e4-b7e5-29a5b2b2022c"
      },
      "execution_count": null,
      "outputs": [
        {
          "output_type": "execute_result",
          "data": {
            "text/plain": [
              "<matplotlib.axes._subplots.AxesSubplot at 0x7fe5840a1e10>"
            ]
          },
          "metadata": {},
          "execution_count": 55
        },
        {
          "output_type": "display_data",
          "data": {
            "text/plain": [
              "<Figure size 432x288 with 1 Axes>"
            ],
            "image/png": "[encoded data removed]"
          },
          "metadata": {
            "needs_background": "light"
          }
        }
      ]
    },
    {
      "cell_type": "code",
      "source": [
        "wc1 = WordCloud(\n",
        "    background_color='white', \n",
        "    max_words=100)\n",
        "\n",
        "wc1.generate(' '.join(text for text in df_training.loc[df_training['Y'] == 1, 'text']))\n",
        "\n",
        "plt.figure(figsize=(10,15))\n",
        "plt.imshow(wc1)\n",
        "plt.axis('off')\n",
        "plt.title(\"Palabras más comunes en frases sarcásticas\")"
      ],
      "metadata": {
        "colab": {
          "base_uri": "https://localhost:8080/",
          "height": 343
        },
        "id": "kaRra90n17EH",
        "outputId": "aaa13f00-ec44-4c6e-93c5-dd33bf17f807"
      },
      "execution_count": null,
      "outputs": [
        {
          "output_type": "execute_result",
          "data": {
            "text/plain": [
              "Text(0.5, 1.0, 'Palabras más comunes en frases sarcásticas')"
            ]
          },
          "metadata": {},
          "execution_count": 56
        },
        {
          "output_type": "display_data",
          "data": {
            "text/plain": [
              "<Figure size 720x1080 with 1 Axes>"
            ],
            "image/png": "[encoded data removed]"
          },
          "metadata": {
            "needs_background": "light"
          }
        }
      ]
    },
    {
      "cell_type": "code",
      "source": [
        "wc = WordCloud(\n",
        "    background_color='white', \n",
        "    max_words=100)\n",
        "\n",
        "wc.generate(' '.join(text for text in df_training.loc[df_training['Y'] == 0, 'text']))\n",
        "\n",
        "plt.figure(figsize=(10,15))\n",
        "plt.imshow(wc)\n",
        "plt.axis('off')\n",
        "plt.title(\"Palabras más comunes en frases NO sarcásticas\")\n",
        "plt.show()"
      ],
      "metadata": {
        "execution": {
          "iopub.status.busy": "2022-06-18T18:41:53.111994Z",
          "iopub.execute_input": "2022-06-18T18:41:53.114483Z",
          "iopub.status.idle": "2022-06-18T18:41:55.416101Z",
          "shell.execute_reply.started": "2022-06-18T18:41:53.114444Z",
          "shell.execute_reply": "2022-06-18T18:41:55.415413Z"
        },
        "trusted": true,
        "colab": {
          "base_uri": "https://localhost:8080/",
          "height": 326
        },
        "id": "lDKuqUPMJIm9",
        "outputId": "3f382ec3-24af-4f47-9ce4-d6bf23fc315e"
      },
      "execution_count": null,
      "outputs": [
        {
          "output_type": "display_data",
          "data": {
            "text/plain": [
              "<Figure size 720x1080 with 1 Axes>"
            ],
            "image/png": "[encoded data removed]"
          },
          "metadata": {
            "needs_background": "light"
          }
        }
      ]
    },
    {
      "cell_type": "markdown",
      "source": [
        "### Preprocess"
      ],
      "metadata": {
        "id": "vbRnklq-JIm9"
      }
    },
    {
      "cell_type": "code",
      "source": [
        "nltk.download('stopwords')"
      ],
      "metadata": {
        "colab": {
          "base_uri": "https://localhost:8080/"
        },
        "id": "m_gnS79hKVji",
        "outputId": "8adc7707-1416-41b5-adbd-6096544ddf1f"
      },
      "execution_count": null,
      "outputs": [
        {
          "output_type": "stream",
          "name": "stderr",
          "text": [
            "[nltk_data] Downloading package stopwords to /root/nltk_data...\n",
            "[nltk_data]   Package stopwords is already up-to-date!\n"
          ]
        },
        {
          "output_type": "execute_result",
          "data": {
            "text/plain": [
              "True"
            ]
          },
          "metadata": {},
          "execution_count": 58
        }
      ]
    },
    {
      "cell_type": "code",
      "source": [
        "stop_words= stopwords.words('english')\n",
        "\n",
        "def remove_stopwords(data):\n",
        "    sentences=[]\n",
        "    for text in data:\n",
        "        text = ' '.join(word for word in text.split(' ') if word not in stop_words)\n",
        "        sentences.append(text)\n",
        "    return sentences\n",
        "            "
      ],
      "metadata": {
        "execution": {
          "iopub.status.busy": "2022-06-18T18:41:55.417847Z",
          "iopub.execute_input": "2022-06-18T18:41:55.418434Z",
          "iopub.status.idle": "2022-06-18T18:41:55.424596Z",
          "shell.execute_reply.started": "2022-06-18T18:41:55.418396Z",
          "shell.execute_reply": "2022-06-18T18:41:55.423858Z"
        },
        "trusted": true,
        "id": "nAoMd3sIJIm9"
      },
      "execution_count": null,
      "outputs": []
    },
    {
      "cell_type": "code",
      "source": [
        "test_sentences = df_testing['text']\n",
        "train_sentences = df_training['text']"
      ],
      "metadata": {
        "execution": {
          "iopub.status.busy": "2022-06-18T18:41:55.426103Z",
          "iopub.execute_input": "2022-06-18T18:41:55.426766Z",
          "iopub.status.idle": "2022-06-18T18:41:55.434093Z",
          "shell.execute_reply.started": "2022-06-18T18:41:55.426726Z",
          "shell.execute_reply": "2022-06-18T18:41:55.433306Z"
        },
        "trusted": true,
        "id": "s6ALQw-vJIm-"
      },
      "execution_count": null,
      "outputs": []
    },
    {
      "cell_type": "code",
      "source": [
        "test_sentences=[re.sub(r'</?a(?:(?= )[^>]*)?>',' ',frase) for frase in test_sentences]\n",
        "test_sentences=[re.sub(r'[^\\w\\s]',' ', frase) for frase in test_sentences] \n",
        "test_sentences=[re.sub(r'\\n',' ', frase) for frase in test_sentences] \n",
        "\n",
        "train_sentences=[re.sub(r'</?a(?:(?= )[^>]*)?>',' ',frase) for frase in train_sentences]\n",
        "train_sentences=[re.sub(r'[^\\w\\s]',' ', frase) for frase in train_sentences] \n",
        "train_sentences=[re.sub(r'\\n',' ', frase) for frase in train_sentences] "
      ],
      "metadata": {
        "execution": {
          "iopub.status.busy": "2022-06-18T18:41:55.437258Z",
          "iopub.execute_input": "2022-06-18T18:41:55.437882Z",
          "iopub.status.idle": "2022-06-18T18:41:55.595630Z",
          "shell.execute_reply.started": "2022-06-18T18:41:55.437849Z",
          "shell.execute_reply": "2022-06-18T18:41:55.594841Z"
        },
        "trusted": true,
        "id": "FCVQXhpCJIm-"
      },
      "execution_count": null,
      "outputs": []
    },
    {
      "cell_type": "code",
      "source": [
        "df= pd.DataFrame()\n",
        "df['data'] = train_sentences\n",
        "df['labels'] = df_training['Y']"
      ],
      "metadata": {
        "execution": {
          "iopub.status.busy": "2022-06-18T18:41:55.596665Z",
          "iopub.execute_input": "2022-06-18T18:41:55.596998Z",
          "iopub.status.idle": "2022-06-18T18:41:55.609232Z",
          "shell.execute_reply.started": "2022-06-18T18:41:55.596964Z",
          "shell.execute_reply": "2022-06-18T18:41:55.608464Z"
        },
        "trusted": true,
        "id": "JYD1a0kTJIm_"
      },
      "execution_count": null,
      "outputs": []
    },
    {
      "cell_type": "code",
      "source": [
        "y_train=(df_training['Y'])\n",
        "y_test=(df_testing['Y'])"
      ],
      "metadata": {
        "execution": {
          "iopub.status.busy": "2022-06-18T18:41:55.610380Z",
          "iopub.execute_input": "2022-06-18T18:41:55.610798Z",
          "iopub.status.idle": "2022-06-18T18:41:55.622594Z",
          "shell.execute_reply.started": "2022-06-18T18:41:55.610759Z",
          "shell.execute_reply": "2022-06-18T18:41:55.621645Z"
        },
        "trusted": true,
        "id": "sX-NkYRaJIm_"
      },
      "execution_count": null,
      "outputs": []
    },
    {
      "cell_type": "code",
      "source": [
        "num_words=10000\n",
        "\n",
        "tokenize=Tokenizer(num_words=num_words)\n",
        "\n",
        "tokenize.fit_on_texts(train_sentences)\n",
        "x_train=tokenize.texts_to_sequences(train_sentences)\n",
        "x_test= tokenize.texts_to_sequences(test_sentences)"
      ],
      "metadata": {
        "execution": {
          "iopub.status.busy": "2022-06-18T18:41:55.625040Z",
          "iopub.execute_input": "2022-06-18T18:41:55.625753Z",
          "iopub.status.idle": "2022-06-18T18:41:56.430861Z",
          "shell.execute_reply.started": "2022-06-18T18:41:55.625623Z",
          "shell.execute_reply": "2022-06-18T18:41:56.430023Z"
        },
        "trusted": true,
        "id": "uiJfnbcAJInA"
      },
      "execution_count": null,
      "outputs": []
    },
    {
      "cell_type": "code",
      "source": [
        "max_len = 20"
      ],
      "metadata": {
        "execution": {
          "iopub.status.busy": "2022-06-18T18:41:56.434289Z",
          "iopub.execute_input": "2022-06-18T18:41:56.434587Z",
          "iopub.status.idle": "2022-06-18T18:41:56.440658Z",
          "shell.execute_reply.started": "2022-06-18T18:41:56.434561Z",
          "shell.execute_reply": "2022-06-18T18:41:56.439888Z"
        },
        "trusted": true,
        "id": "FwU_RX_pJInA"
      },
      "execution_count": null,
      "outputs": []
    },
    {
      "cell_type": "code",
      "source": [
        "x_train_pad=pad_sequences(x_train, maxlen= max_len,padding= \"post\")\n",
        "x_test_pad=pad_sequences(x_test, maxlen= max_len, padding=\"post\")"
      ],
      "metadata": {
        "execution": {
          "iopub.status.busy": "2022-06-18T18:41:56.441983Z",
          "iopub.execute_input": "2022-06-18T18:41:56.442365Z",
          "iopub.status.idle": "2022-06-18T18:41:56.612138Z",
          "shell.execute_reply.started": "2022-06-18T18:41:56.442337Z",
          "shell.execute_reply": "2022-06-18T18:41:56.611376Z"
        },
        "trusted": true,
        "id": "TOYB0tbgJInA"
      },
      "execution_count": null,
      "outputs": []
    },
    {
      "cell_type": "markdown",
      "source": [
        "#### Definición de arquitecturas"
      ],
      "metadata": {
        "id": "dNEI2M0DJInA"
      }
    },
    {
      "cell_type": "markdown",
      "source": [
        "Primero definiremos el modelo más simple el modelo LSTM con un embedding GloVe para agilizar el proceso de entrenamiento. "
      ],
      "metadata": {
        "id": "heXuv4GkJInB"
      }
    },
    {
      "cell_type": "code",
      "source": [
        "embeddings_dictionary = dict()\n",
        "embedding_dim = 100\n",
        "\n",
        "# Load GloVe 100D embeddings\n",
        "with open(\"/content/drive/MyDrive/TFG/data/glove.6B.100d.txt\", encoding='utf-8') as fp:\n",
        "    for line in fp.readlines():\n",
        "        records = line.split()\n",
        "        word = records[0]\n",
        "        vector_dimensions = np.asarray(records[1:], dtype='float32')\n",
        "        embeddings_dictionary [word] = vector_dimensions"
      ],
      "metadata": {
        "execution": {
          "iopub.status.busy": "2022-06-18T18:41:56.860569Z",
          "iopub.execute_input": "2022-06-18T18:41:56.861011Z",
          "iopub.status.idle": "2022-06-18T18:42:10.345914Z",
          "shell.execute_reply.started": "2022-06-18T18:41:56.860969Z",
          "shell.execute_reply": "2022-06-18T18:42:10.344994Z"
        },
        "trusted": true,
        "id": "iy8JOUnhJInB"
      },
      "execution_count": null,
      "outputs": []
    },
    {
      "cell_type": "code",
      "source": [
        "vocab_length = len(tokenize.word_index) + 1\n",
        "vocab_length"
      ],
      "metadata": {
        "execution": {
          "iopub.status.busy": "2022-06-18T18:42:10.359343Z",
          "iopub.execute_input": "2022-06-18T18:42:10.362184Z",
          "iopub.status.idle": "2022-06-18T18:42:10.373072Z",
          "shell.execute_reply.started": "2022-06-18T18:42:10.362144Z",
          "shell.execute_reply": "2022-06-18T18:42:10.372024Z"
        },
        "trusted": true,
        "id": "z_NmhZTsJInB",
        "colab": {
          "base_uri": "https://localhost:8080/"
        },
        "outputId": "e522d5e3-edcd-4c13-bb99-d884d1057d4a"
      },
      "execution_count": null,
      "outputs": [
        {
          "output_type": "execute_result",
          "data": {
            "text/plain": [
              "22544"
            ]
          },
          "metadata": {},
          "execution_count": 67
        }
      ]
    },
    {
      "cell_type": "code",
      "source": [
        "embedding_matrix = np.zeros((vocab_length, embedding_dim))\n",
        "\n",
        "for word, index in tokenize.word_index.items():\n",
        "    embedding_vector = embeddings_dictionary.get(word)\n",
        "    if embedding_vector is not None:\n",
        "        embedding_matrix[index] = embedding_vector"
      ],
      "metadata": {
        "execution": {
          "iopub.status.busy": "2022-06-18T18:42:10.377449Z",
          "iopub.execute_input": "2022-06-18T18:42:10.379825Z",
          "iopub.status.idle": "2022-06-18T18:42:10.465355Z",
          "shell.execute_reply.started": "2022-06-18T18:42:10.379787Z",
          "shell.execute_reply": "2022-06-18T18:42:10.464127Z"
        },
        "trusted": true,
        "id": "1FqpkOvqJInB"
      },
      "execution_count": null,
      "outputs": []
    },
    {
      "cell_type": "code",
      "source": [
        "x_train,x_valid, y_train, y_valid = train_test_split(x_train_pad,y_train)"
      ],
      "metadata": {
        "execution": {
          "iopub.status.busy": "2022-06-18T18:42:10.467359Z",
          "iopub.execute_input": "2022-06-18T18:42:10.467956Z",
          "iopub.status.idle": "2022-06-18T18:42:10.481949Z",
          "shell.execute_reply.started": "2022-06-18T18:42:10.467917Z",
          "shell.execute_reply": "2022-06-18T18:42:10.481250Z"
        },
        "trusted": true,
        "id": "x0LHmUd3JInB"
      },
      "execution_count": null,
      "outputs": []
    },
    {
      "cell_type": "code",
      "source": [
        "epochs = 20 \n",
        "\n",
        "num_steps = epochs * len(x_train)"
      ],
      "metadata": {
        "execution": {
          "iopub.status.busy": "2022-06-18T18:42:10.483133Z",
          "iopub.execute_input": "2022-06-18T18:42:10.483728Z",
          "iopub.status.idle": "2022-06-18T18:42:10.489000Z",
          "shell.execute_reply.started": "2022-06-18T18:42:10.483691Z",
          "shell.execute_reply": "2022-06-18T18:42:10.488100Z"
        },
        "trusted": true,
        "id": "ycJQMpuKJInC"
      },
      "execution_count": null,
      "outputs": []
    },
    {
      "cell_type": "markdown",
      "source": [
        "#### Red convolucional"
      ],
      "metadata": {
        "id": "rejrjuG3Hhun"
      }
    },
    {
      "cell_type": "code",
      "source": [
        "from tensorflow.keras import backend as K"
      ],
      "metadata": {
        "id": "dXlxsZCfII2m"
      },
      "execution_count": null,
      "outputs": []
    },
    {
      "cell_type": "code",
      "source": [
        "def custom_f1(y_true, y_pred):    \n",
        "    def recall_m(y_true, y_pred):\n",
        "        TP = K.sum(K.round(K.clip(y_true * y_pred, 0, 1)))\n",
        "        Positives = K.sum(K.round(K.clip(y_true, 0, 1)))\n",
        "        \n",
        "        recall = TP / (Positives+K.epsilon())    \n",
        "        return recall \n",
        "    \n",
        "    \n",
        "    def precision_m(y_true, y_pred):\n",
        "        TP = K.sum(K.round(K.clip(y_true * y_pred, 0, 1)))\n",
        "        Pred_Positives = K.sum(K.round(K.clip(y_pred, 0, 1)))\n",
        "    \n",
        "        precision = TP / (Pred_Positives+K.epsilon())\n",
        "        return precision \n",
        "    \n",
        "    precision, recall = precision_m(y_true, y_pred), recall_m(y_true, y_pred)\n",
        "    \n",
        "    return 2*((precision*recall)/(precision+recall+K.epsilon()))"
      ],
      "metadata": {
        "id": "7gE4e5RkHfP3"
      },
      "execution_count": null,
      "outputs": []
    },
    {
      "cell_type": "code",
      "source": [
        "def FCNN_NLP():\n",
        "    optimizer, lr = transformers.create_optimizer(init_lr  = 2e-3, num_train_steps = num_steps,num_warmup_steps = 0.1*num_steps, weight_decay_rate =.01)\n",
        "\n",
        "\n",
        "\n",
        "    input = Input(shape=(max_len,))\n",
        "    net= (Embedding(input_dim= embedding_matrix.shape[0], output_dim= embedding_matrix.shape[1],weights=[embedding_matrix], input_length=max_len))(input)\n",
        "    net = Dropout(0.2)(net)\n",
        "    net = BatchNormalization()(net)\n",
        "    \n",
        "    net = Conv1D(32, 7, padding='same', activation='relu')(net)\n",
        "    net = BatchNormalization()(net)\n",
        "    net = Conv1D(32, 3, padding='same', activation='relu')(net)\n",
        "    net = BatchNormalization()(net)\n",
        "    net = Conv1D(32, 3, padding='same', activation='relu')(net)\n",
        "    net = BatchNormalization()(net)\n",
        "    net = Conv1D(32, 3, padding='same', activation='relu')(net)\n",
        "    net = BatchNormalization()(net)\n",
        "    \n",
        "    net = Conv1D(1, 1)(net)\n",
        "    net = GlobalMaxPool1D()(net)\n",
        "    output = tf.keras.activations.sigmoid(net)\n",
        "    model = tf.keras.models.Model(inputs = input, outputs = output)\n",
        "    model.compile(optimizer=optimizer, loss='binary_crossentropy', metrics=['accuracy',tf.keras.metrics.Recall(),tf.keras.metrics.Precision(),custom_f1])\n",
        "    return model\n",
        "model = FCNN_NLP()\n",
        "model.summary()\n"
      ],
      "metadata": {
        "id": "0pXTtuc6HeJ4",
        "colab": {
          "base_uri": "https://localhost:8080/"
        },
        "outputId": "3d8151da-7224-4237-a7cd-dab31f58f4c7"
      },
      "execution_count": null,
      "outputs": [
        {
          "output_type": "stream",
          "name": "stdout",
          "text": [
            "Model: \"model_2\"\n",
            "_________________________________________________________________\n",
            "Layer (type)                 Output Shape              Param #   \n",
            "=================================================================\n",
            "input_3 (InputLayer)         [(None, 20)]              0         \n",
            "_________________________________________________________________\n",
            "embedding_2 (Embedding)      (None, 20, 100)           2254400   \n",
            "_________________________________________________________________\n",
            "dropout_2 (Dropout)          (None, 20, 100)           0         \n",
            "_________________________________________________________________\n",
            "batch_normalization_10 (Batc (None, 20, 100)           400       \n",
            "_________________________________________________________________\n",
            "conv1d_10 (Conv1D)           (None, 20, 32)            22432     \n",
            "_________________________________________________________________\n",
            "batch_normalization_11 (Batc (None, 20, 32)            128       \n",
            "_________________________________________________________________\n",
            "conv1d_11 (Conv1D)           (None, 20, 32)            3104      \n",
            "_________________________________________________________________\n",
            "batch_normalization_12 (Batc (None, 20, 32)            128       \n",
            "_________________________________________________________________\n",
            "conv1d_12 (Conv1D)           (None, 20, 32)            3104      \n",
            "_________________________________________________________________\n",
            "batch_normalization_13 (Batc (None, 20, 32)            128       \n",
            "_________________________________________________________________\n",
            "conv1d_13 (Conv1D)           (None, 20, 32)            3104      \n",
            "_________________________________________________________________\n",
            "batch_normalization_14 (Batc (None, 20, 32)            128       \n",
            "_________________________________________________________________\n",
            "conv1d_14 (Conv1D)           (None, 20, 1)             33        \n",
            "_________________________________________________________________\n",
            "global_max_pooling1d_2 (Glob (None, 1)                 0         \n",
            "_________________________________________________________________\n",
            "tf.math.sigmoid_2 (TFOpLambd (None, 1)                 0         \n",
            "=================================================================\n",
            "Total params: 2,287,089\n",
            "Trainable params: 2,286,633\n",
            "Non-trainable params: 456\n",
            "_________________________________________________________________\n"
          ]
        }
      ]
    },
    {
      "cell_type": "code",
      "source": [
        "tf.keras.utils.plot_model(model,show_layer_names=False, rankdir = 'LR')"
      ],
      "metadata": {
        "id": "nn6NIujPqzaR",
        "colab": {
          "base_uri": "https://localhost:8080/",
          "height": 58
        },
        "outputId": "cc029cc8-6369-4cf5-be51-313557e39d0e"
      },
      "execution_count": null,
      "outputs": [
        {
          "output_type": "execute_result",
          "data": {
            "text/plain": [
              "<IPython.core.display.Image object>"
            ],
            "image/png": "[encoded data removed]"
          },
          "metadata": {},
          "execution_count": 76
        }
      ]
    },
    {
      "cell_type": "code",
      "source": [
        "batch_size = 32\n",
        "\n",
        "\n",
        "history = model.fit(x_train, y_train,steps_per_epoch=len(x_train)//batch_size,validation_data=(x_valid,y_valid), validation_steps=len(x_valid)//batch_size\n",
        ",epochs=50, batch_size=batch_size, callbacks=[EarlyStopping(patience=5, restore_best_weights=True), ModelCheckpoint(\"ModelO_FCNN_checkpoint.h5\", save_best_weights=True)])"
      ],
      "metadata": {
        "id": "ms-PekmFHrSW",
        "colab": {
          "base_uri": "https://localhost:8080/",
          "height": 956
        },
        "outputId": "bdd94c01-b229-4e5a-b73f-e8c8315d5e0d"
      },
      "execution_count": null,
      "outputs": [
        {
          "output_type": "stream",
          "name": "stdout",
          "text": [
            "Epoch 1/50\n",
            "469/469 [==============================] - 24s 46ms/step - loss: 1.4643 - accuracy: 0.4823 - recall_2: 0.9991 - precision_2: 0.4824 - custom_f1: 0.6466 - val_loss: 1.0526 - val_accuracy: 0.4679 - val_recall_2: 1.0000 - val_precision_2: 0.4679 - val_custom_f1: 0.6327\n",
            "Epoch 2/50\n",
            "469/469 [==============================] - 18s 38ms/step - loss: 0.9992 - accuracy: 0.4792 - recall_2: 1.0000 - precision_2: 0.4792 - custom_f1: 0.6435 - val_loss: 0.8426 - val_accuracy: 0.4677 - val_recall_2: 0.9996 - val_precision_2: 0.4678 - val_custom_f1: 0.6325\n",
            "Epoch 3/50\n",
            "469/469 [==============================] - 15s 32ms/step - loss: 0.8103 - accuracy: 0.4834 - recall_2: 0.9998 - precision_2: 0.4834 - custom_f1: 0.6474 - val_loss: 0.7498 - val_accuracy: 0.4669 - val_recall_2: 0.9974 - val_precision_2: 0.4674 - val_custom_f1: 0.6317\n",
            "Epoch 4/50\n",
            "469/469 [==============================] - 15s 32ms/step - loss: 0.7319 - accuracy: 0.4800 - recall_2: 0.9939 - precision_2: 0.4806 - custom_f1: 0.6446 - val_loss: 0.7050 - val_accuracy: 0.4862 - val_recall_2: 0.9414 - val_precision_2: 0.4753 - val_custom_f1: 0.6263\n",
            "Epoch 5/50\n",
            "469/469 [==============================] - 15s 32ms/step - loss: 0.6958 - accuracy: 0.5247 - recall_2: 0.7672 - precision_2: 0.5037 - custom_f1: 0.5995 - val_loss: 0.6781 - val_accuracy: 0.5869 - val_recall_2: 0.5394 - val_precision_2: 0.5610 - val_custom_f1: 0.5440\n",
            "Epoch 6/50\n",
            "469/469 [==============================] - 15s 32ms/step - loss: 0.6679 - accuracy: 0.5951 - recall_2: 0.6037 - precision_2: 0.5742 - custom_f1: 0.5837 - val_loss: 0.6330 - val_accuracy: 0.6597 - val_recall_2: 0.5479 - val_precision_2: 0.6656 - val_custom_f1: 0.5921\n",
            "Epoch 7/50\n",
            "469/469 [==============================] - 15s 32ms/step - loss: 0.6161 - accuracy: 0.6738 - recall_2: 0.6561 - precision_2: 0.6619 - custom_f1: 0.6548 - val_loss: 0.5679 - val_accuracy: 0.7224 - val_recall_2: 0.6224 - val_precision_2: 0.7426 - val_custom_f1: 0.6700\n",
            "Epoch 8/50\n",
            "469/469 [==============================] - 15s 32ms/step - loss: 0.5535 - accuracy: 0.7298 - recall_2: 0.6974 - precision_2: 0.7361 - custom_f1: 0.7129 - val_loss: 0.5296 - val_accuracy: 0.7438 - val_recall_2: 0.5882 - val_precision_2: 0.8125 - val_custom_f1: 0.6735\n",
            "Epoch 9/50\n",
            "469/469 [==============================] - 15s 33ms/step - loss: 0.5014 - accuracy: 0.7671 - recall_2: 0.7165 - precision_2: 0.7783 - custom_f1: 0.7431 - val_loss: 0.4843 - val_accuracy: 0.7784 - val_recall_2: 0.7226 - val_precision_2: 0.7866 - val_custom_f1: 0.7477\n",
            "Epoch 10/50\n",
            "469/469 [==============================] - 16s 33ms/step - loss: 0.4545 - accuracy: 0.7927 - recall_2: 0.7559 - precision_2: 0.7944 - custom_f1: 0.7708 - val_loss: 0.4577 - val_accuracy: 0.7905 - val_recall_2: 0.7055 - val_precision_2: 0.8215 - val_custom_f1: 0.7518\n",
            "Epoch 11/50\n",
            "469/469 [==============================] - 16s 35ms/step - loss: 0.4143 - accuracy: 0.8174 - recall_2: 0.7862 - precision_2: 0.8281 - custom_f1: 0.8032 - val_loss: 0.4297 - val_accuracy: 0.8059 - val_recall_2: 0.7586 - val_precision_2: 0.8140 - val_custom_f1: 0.7792\n",
            "Epoch 12/50\n",
            "469/469 [==============================] - 15s 32ms/step - loss: 0.3689 - accuracy: 0.8427 - recall_2: 0.8179 - precision_2: 0.8503 - custom_f1: 0.8303 - val_loss: 0.4080 - val_accuracy: 0.8191 - val_recall_2: 0.7864 - val_precision_2: 0.8197 - val_custom_f1: 0.7959\n",
            "Epoch 13/50\n",
            "469/469 [==============================] - 15s 32ms/step - loss: 0.3401 - accuracy: 0.8565 - recall_2: 0.8350 - precision_2: 0.8634 - custom_f1: 0.8455 - val_loss: 0.4057 - val_accuracy: 0.8189 - val_recall_2: 0.7491 - val_precision_2: 0.8462 - val_custom_f1: 0.7876\n",
            "Epoch 14/50\n",
            "469/469 [==============================] - 15s 32ms/step - loss: 0.3114 - accuracy: 0.8718 - recall_2: 0.8549 - precision_2: 0.8753 - custom_f1: 0.8628 - val_loss: 0.3903 - val_accuracy: 0.8349 - val_recall_2: 0.8125 - val_precision_2: 0.8310 - val_custom_f1: 0.8162\n",
            "Epoch 15/50\n",
            "469/469 [==============================] - 15s 32ms/step - loss: 0.2645 - accuracy: 0.8934 - recall_2: 0.8846 - precision_2: 0.8943 - custom_f1: 0.8854 - val_loss: 0.3876 - val_accuracy: 0.8349 - val_recall_2: 0.8074 - val_precision_2: 0.8345 - val_custom_f1: 0.8142\n",
            "Epoch 16/50\n",
            "469/469 [==============================] - 16s 34ms/step - loss: 0.2383 - accuracy: 0.9047 - recall_2: 0.8877 - precision_2: 0.9102 - custom_f1: 0.8967 - val_loss: 0.3978 - val_accuracy: 0.8309 - val_recall_2: 0.7667 - val_precision_2: 0.8569 - val_custom_f1: 0.8027\n",
            "Epoch 17/50\n",
            "131/469 [=======>......................] - ETA: 10s - loss: 0.1961 - accuracy: 0.9260 - recall_2: 0.9171 - precision_2: 0.9297 - custom_f1: 0.9215"
          ]
        },
        {
          "output_type": "error",
          "ename": "KeyboardInterrupt",
          "evalue": "ignored",
          "traceback": [
            "\u001b[0;31m---------------------------------------------------------------------------\u001b[0m",
            "\u001b[0;31mKeyboardInterrupt\u001b[0m                         Traceback (most recent call last)",
            "\u001b[0;32m<ipython-input-78-f845c9f1cbc8>\u001b[0m in \u001b[0;36m<module>\u001b[0;34m()\u001b[0m\n\u001b[1;32m      3\u001b[0m \u001b[0;34m\u001b[0m\u001b[0m\n\u001b[1;32m      4\u001b[0m history = model.fit(x_train, y_train,steps_per_epoch=len(x_train)//batch_size,validation_data=(x_valid,y_valid), validation_steps=len(x_valid)//batch_size\n\u001b[0;32m----> 5\u001b[0;31m ,epochs=50, batch_size=batch_size, callbacks=[EarlyStopping(patience=5, restore_best_weights=True), ModelCheckpoint(\"ModelO_FCNN_checkpoint.h5\", save_best_weights=True)])\n\u001b[0m",
            "\u001b[0;32m/usr/local/lib/python3.7/dist-packages/tensorflow/python/keras/engine/training.py\u001b[0m in \u001b[0;36mfit\u001b[0;34m(self, x, y, batch_size, epochs, verbose, callbacks, validation_split, validation_data, shuffle, class_weight, sample_weight, initial_epoch, steps_per_epoch, validation_steps, validation_batch_size, validation_freq, max_queue_size, workers, use_multiprocessing)\u001b[0m\n\u001b[1;32m   1103\u001b[0m               \u001b[0mlogs\u001b[0m \u001b[0;34m=\u001b[0m \u001b[0mtmp_logs\u001b[0m  \u001b[0;31m# No error, now safe to assign to logs.\u001b[0m\u001b[0;34m\u001b[0m\u001b[0;34m\u001b[0m\u001b[0m\n\u001b[1;32m   1104\u001b[0m               \u001b[0mend_step\u001b[0m \u001b[0;34m=\u001b[0m \u001b[0mstep\u001b[0m \u001b[0;34m+\u001b[0m \u001b[0mdata_handler\u001b[0m\u001b[0;34m.\u001b[0m\u001b[0mstep_increment\u001b[0m\u001b[0;34m\u001b[0m\u001b[0;34m\u001b[0m\u001b[0m\n\u001b[0;32m-> 1105\u001b[0;31m               \u001b[0mcallbacks\u001b[0m\u001b[0;34m.\u001b[0m\u001b[0mon_train_batch_end\u001b[0m\u001b[0;34m(\u001b[0m\u001b[0mend_step\u001b[0m\u001b[0;34m,\u001b[0m \u001b[0mlogs\u001b[0m\u001b[0;34m)\u001b[0m\u001b[0;34m\u001b[0m\u001b[0;34m\u001b[0m\u001b[0m\n\u001b[0m\u001b[1;32m   1106\u001b[0m               \u001b[0;32mif\u001b[0m \u001b[0mself\u001b[0m\u001b[0;34m.\u001b[0m\u001b[0mstop_training\u001b[0m\u001b[0;34m:\u001b[0m\u001b[0;34m\u001b[0m\u001b[0;34m\u001b[0m\u001b[0m\n\u001b[1;32m   1107\u001b[0m                 \u001b[0;32mbreak\u001b[0m\u001b[0;34m\u001b[0m\u001b[0;34m\u001b[0m\u001b[0m\n",
            "\u001b[0;32m/usr/local/lib/python3.7/dist-packages/tensorflow/python/keras/callbacks.py\u001b[0m in \u001b[0;36mon_train_batch_end\u001b[0;34m(self, batch, logs)\u001b[0m\n\u001b[1;32m    452\u001b[0m     \"\"\"\n\u001b[1;32m    453\u001b[0m     \u001b[0;32mif\u001b[0m \u001b[0mself\u001b[0m\u001b[0;34m.\u001b[0m\u001b[0m_should_call_train_batch_hooks\u001b[0m\u001b[0;34m:\u001b[0m\u001b[0;34m\u001b[0m\u001b[0;34m\u001b[0m\u001b[0m\n\u001b[0;32m--> 454\u001b[0;31m       \u001b[0mself\u001b[0m\u001b[0;34m.\u001b[0m\u001b[0m_call_batch_hook\u001b[0m\u001b[0;34m(\u001b[0m\u001b[0mModeKeys\u001b[0m\u001b[0;34m.\u001b[0m\u001b[0mTRAIN\u001b[0m\u001b[0;34m,\u001b[0m \u001b[0;34m'end'\u001b[0m\u001b[0;34m,\u001b[0m \u001b[0mbatch\u001b[0m\u001b[0;34m,\u001b[0m \u001b[0mlogs\u001b[0m\u001b[0;34m=\u001b[0m\u001b[0mlogs\u001b[0m\u001b[0;34m)\u001b[0m\u001b[0;34m\u001b[0m\u001b[0;34m\u001b[0m\u001b[0m\n\u001b[0m\u001b[1;32m    455\u001b[0m \u001b[0;34m\u001b[0m\u001b[0m\n\u001b[1;32m    456\u001b[0m   \u001b[0;32mdef\u001b[0m \u001b[0mon_test_batch_begin\u001b[0m\u001b[0;34m(\u001b[0m\u001b[0mself\u001b[0m\u001b[0;34m,\u001b[0m \u001b[0mbatch\u001b[0m\u001b[0;34m,\u001b[0m \u001b[0mlogs\u001b[0m\u001b[0;34m=\u001b[0m\u001b[0;32mNone\u001b[0m\u001b[0;34m)\u001b[0m\u001b[0;34m:\u001b[0m\u001b[0;34m\u001b[0m\u001b[0;34m\u001b[0m\u001b[0m\n",
            "\u001b[0;32m/usr/local/lib/python3.7/dist-packages/tensorflow/python/keras/callbacks.py\u001b[0m in \u001b[0;36m_call_batch_hook\u001b[0;34m(self, mode, hook, batch, logs)\u001b[0m\n\u001b[1;32m    294\u001b[0m       \u001b[0mself\u001b[0m\u001b[0;34m.\u001b[0m\u001b[0m_call_batch_begin_hook\u001b[0m\u001b[0;34m(\u001b[0m\u001b[0mmode\u001b[0m\u001b[0;34m,\u001b[0m \u001b[0mbatch\u001b[0m\u001b[0;34m,\u001b[0m \u001b[0mlogs\u001b[0m\u001b[0;34m)\u001b[0m\u001b[0;34m\u001b[0m\u001b[0;34m\u001b[0m\u001b[0m\n\u001b[1;32m    295\u001b[0m     \u001b[0;32melif\u001b[0m \u001b[0mhook\u001b[0m \u001b[0;34m==\u001b[0m \u001b[0;34m'end'\u001b[0m\u001b[0;34m:\u001b[0m\u001b[0;34m\u001b[0m\u001b[0;34m\u001b[0m\u001b[0m\n\u001b[0;32m--> 296\u001b[0;31m       \u001b[0mself\u001b[0m\u001b[0;34m.\u001b[0m\u001b[0m_call_batch_end_hook\u001b[0m\u001b[0;34m(\u001b[0m\u001b[0mmode\u001b[0m\u001b[0;34m,\u001b[0m \u001b[0mbatch\u001b[0m\u001b[0;34m,\u001b[0m \u001b[0mlogs\u001b[0m\u001b[0;34m)\u001b[0m\u001b[0;34m\u001b[0m\u001b[0;34m\u001b[0m\u001b[0m\n\u001b[0m\u001b[1;32m    297\u001b[0m     \u001b[0;32melse\u001b[0m\u001b[0;34m:\u001b[0m\u001b[0;34m\u001b[0m\u001b[0;34m\u001b[0m\u001b[0m\n\u001b[1;32m    298\u001b[0m       \u001b[0;32mraise\u001b[0m \u001b[0mValueError\u001b[0m\u001b[0;34m(\u001b[0m\u001b[0;34m'Unrecognized hook: {}'\u001b[0m\u001b[0;34m.\u001b[0m\u001b[0mformat\u001b[0m\u001b[0;34m(\u001b[0m\u001b[0mhook\u001b[0m\u001b[0;34m)\u001b[0m\u001b[0;34m)\u001b[0m\u001b[0;34m\u001b[0m\u001b[0;34m\u001b[0m\u001b[0m\n",
            "\u001b[0;32m/usr/local/lib/python3.7/dist-packages/tensorflow/python/keras/callbacks.py\u001b[0m in \u001b[0;36m_call_batch_end_hook\u001b[0;34m(self, mode, batch, logs)\u001b[0m\n\u001b[1;32m    314\u001b[0m       \u001b[0mself\u001b[0m\u001b[0;34m.\u001b[0m\u001b[0m_batch_times\u001b[0m\u001b[0;34m.\u001b[0m\u001b[0mappend\u001b[0m\u001b[0;34m(\u001b[0m\u001b[0mbatch_time\u001b[0m\u001b[0;34m)\u001b[0m\u001b[0;34m\u001b[0m\u001b[0;34m\u001b[0m\u001b[0m\n\u001b[1;32m    315\u001b[0m \u001b[0;34m\u001b[0m\u001b[0m\n\u001b[0;32m--> 316\u001b[0;31m     \u001b[0mself\u001b[0m\u001b[0;34m.\u001b[0m\u001b[0m_call_batch_hook_helper\u001b[0m\u001b[0;34m(\u001b[0m\u001b[0mhook_name\u001b[0m\u001b[0;34m,\u001b[0m \u001b[0mbatch\u001b[0m\u001b[0;34m,\u001b[0m \u001b[0mlogs\u001b[0m\u001b[0;34m)\u001b[0m\u001b[0;34m\u001b[0m\u001b[0;34m\u001b[0m\u001b[0m\n\u001b[0m\u001b[1;32m    317\u001b[0m \u001b[0;34m\u001b[0m\u001b[0m\n\u001b[1;32m    318\u001b[0m     \u001b[0;32mif\u001b[0m \u001b[0mlen\u001b[0m\u001b[0;34m(\u001b[0m\u001b[0mself\u001b[0m\u001b[0;34m.\u001b[0m\u001b[0m_batch_times\u001b[0m\u001b[0;34m)\u001b[0m \u001b[0;34m>=\u001b[0m \u001b[0mself\u001b[0m\u001b[0;34m.\u001b[0m\u001b[0m_num_batches_for_timing_check\u001b[0m\u001b[0;34m:\u001b[0m\u001b[0;34m\u001b[0m\u001b[0;34m\u001b[0m\u001b[0m\n",
            "\u001b[0;32m/usr/local/lib/python3.7/dist-packages/tensorflow/python/keras/callbacks.py\u001b[0m in \u001b[0;36m_call_batch_hook_helper\u001b[0;34m(self, hook_name, batch, logs)\u001b[0m\n\u001b[1;32m    354\u001b[0m       \u001b[0mhook\u001b[0m \u001b[0;34m=\u001b[0m \u001b[0mgetattr\u001b[0m\u001b[0;34m(\u001b[0m\u001b[0mcallback\u001b[0m\u001b[0;34m,\u001b[0m \u001b[0mhook_name\u001b[0m\u001b[0;34m)\u001b[0m\u001b[0;34m\u001b[0m\u001b[0;34m\u001b[0m\u001b[0m\n\u001b[1;32m    355\u001b[0m       \u001b[0;32mif\u001b[0m \u001b[0mgetattr\u001b[0m\u001b[0;34m(\u001b[0m\u001b[0mcallback\u001b[0m\u001b[0;34m,\u001b[0m \u001b[0;34m'_supports_tf_logs'\u001b[0m\u001b[0;34m,\u001b[0m \u001b[0;32mFalse\u001b[0m\u001b[0;34m)\u001b[0m\u001b[0;34m:\u001b[0m\u001b[0;34m\u001b[0m\u001b[0;34m\u001b[0m\u001b[0m\n\u001b[0;32m--> 356\u001b[0;31m         \u001b[0mhook\u001b[0m\u001b[0;34m(\u001b[0m\u001b[0mbatch\u001b[0m\u001b[0;34m,\u001b[0m \u001b[0mlogs\u001b[0m\u001b[0;34m)\u001b[0m\u001b[0;34m\u001b[0m\u001b[0;34m\u001b[0m\u001b[0m\n\u001b[0m\u001b[1;32m    357\u001b[0m       \u001b[0;32melse\u001b[0m\u001b[0;34m:\u001b[0m\u001b[0;34m\u001b[0m\u001b[0;34m\u001b[0m\u001b[0m\n\u001b[1;32m    358\u001b[0m         \u001b[0;32mif\u001b[0m \u001b[0mnumpy_logs\u001b[0m \u001b[0;32mis\u001b[0m \u001b[0;32mNone\u001b[0m\u001b[0;34m:\u001b[0m  \u001b[0;31m# Only convert once.\u001b[0m\u001b[0;34m\u001b[0m\u001b[0;34m\u001b[0m\u001b[0m\n",
            "\u001b[0;32m/usr/local/lib/python3.7/dist-packages/tensorflow/python/keras/callbacks.py\u001b[0m in \u001b[0;36mon_train_batch_end\u001b[0;34m(self, batch, logs)\u001b[0m\n\u001b[1;32m   1018\u001b[0m \u001b[0;34m\u001b[0m\u001b[0m\n\u001b[1;32m   1019\u001b[0m   \u001b[0;32mdef\u001b[0m \u001b[0mon_train_batch_end\u001b[0m\u001b[0;34m(\u001b[0m\u001b[0mself\u001b[0m\u001b[0;34m,\u001b[0m \u001b[0mbatch\u001b[0m\u001b[0;34m,\u001b[0m \u001b[0mlogs\u001b[0m\u001b[0;34m=\u001b[0m\u001b[0;32mNone\u001b[0m\u001b[0;34m)\u001b[0m\u001b[0;34m:\u001b[0m\u001b[0;34m\u001b[0m\u001b[0;34m\u001b[0m\u001b[0m\n\u001b[0;32m-> 1020\u001b[0;31m     \u001b[0mself\u001b[0m\u001b[0;34m.\u001b[0m\u001b[0m_batch_update_progbar\u001b[0m\u001b[0;34m(\u001b[0m\u001b[0mbatch\u001b[0m\u001b[0;34m,\u001b[0m \u001b[0mlogs\u001b[0m\u001b[0;34m)\u001b[0m\u001b[0;34m\u001b[0m\u001b[0;34m\u001b[0m\u001b[0m\n\u001b[0m\u001b[1;32m   1021\u001b[0m \u001b[0;34m\u001b[0m\u001b[0m\n\u001b[1;32m   1022\u001b[0m   \u001b[0;32mdef\u001b[0m \u001b[0mon_test_batch_end\u001b[0m\u001b[0;34m(\u001b[0m\u001b[0mself\u001b[0m\u001b[0;34m,\u001b[0m \u001b[0mbatch\u001b[0m\u001b[0;34m,\u001b[0m \u001b[0mlogs\u001b[0m\u001b[0;34m=\u001b[0m\u001b[0;32mNone\u001b[0m\u001b[0;34m)\u001b[0m\u001b[0;34m:\u001b[0m\u001b[0;34m\u001b[0m\u001b[0;34m\u001b[0m\u001b[0m\n",
            "\u001b[0;32m/usr/local/lib/python3.7/dist-packages/tensorflow/python/keras/callbacks.py\u001b[0m in \u001b[0;36m_batch_update_progbar\u001b[0;34m(self, batch, logs)\u001b[0m\n\u001b[1;32m   1083\u001b[0m       \u001b[0;31m# Only block async when verbose = 1.\u001b[0m\u001b[0;34m\u001b[0m\u001b[0;34m\u001b[0m\u001b[0;34m\u001b[0m\u001b[0m\n\u001b[1;32m   1084\u001b[0m       \u001b[0mlogs\u001b[0m \u001b[0;34m=\u001b[0m \u001b[0mtf_utils\u001b[0m\u001b[0;34m.\u001b[0m\u001b[0mto_numpy_or_python_type\u001b[0m\u001b[0;34m(\u001b[0m\u001b[0mlogs\u001b[0m\u001b[0;34m)\u001b[0m\u001b[0;34m\u001b[0m\u001b[0;34m\u001b[0m\u001b[0m\n\u001b[0;32m-> 1085\u001b[0;31m       \u001b[0mself\u001b[0m\u001b[0;34m.\u001b[0m\u001b[0mprogbar\u001b[0m\u001b[0;34m.\u001b[0m\u001b[0mupdate\u001b[0m\u001b[0;34m(\u001b[0m\u001b[0mself\u001b[0m\u001b[0;34m.\u001b[0m\u001b[0mseen\u001b[0m\u001b[0;34m,\u001b[0m \u001b[0mlist\u001b[0m\u001b[0;34m(\u001b[0m\u001b[0mlogs\u001b[0m\u001b[0;34m.\u001b[0m\u001b[0mitems\u001b[0m\u001b[0;34m(\u001b[0m\u001b[0;34m)\u001b[0m\u001b[0;34m)\u001b[0m\u001b[0;34m,\u001b[0m \u001b[0mfinalize\u001b[0m\u001b[0;34m=\u001b[0m\u001b[0;32mFalse\u001b[0m\u001b[0;34m)\u001b[0m\u001b[0;34m\u001b[0m\u001b[0;34m\u001b[0m\u001b[0m\n\u001b[0m\u001b[1;32m   1086\u001b[0m \u001b[0;34m\u001b[0m\u001b[0m\n\u001b[1;32m   1087\u001b[0m   \u001b[0;32mdef\u001b[0m \u001b[0m_finalize_progbar\u001b[0m\u001b[0;34m(\u001b[0m\u001b[0mself\u001b[0m\u001b[0;34m,\u001b[0m \u001b[0mlogs\u001b[0m\u001b[0;34m,\u001b[0m \u001b[0mcounter\u001b[0m\u001b[0;34m)\u001b[0m\u001b[0;34m:\u001b[0m\u001b[0;34m\u001b[0m\u001b[0;34m\u001b[0m\u001b[0m\n",
            "\u001b[0;32m/usr/local/lib/python3.7/dist-packages/tensorflow/python/keras/utils/generic_utils.py\u001b[0m in \u001b[0;36mupdate\u001b[0;34m(self, current, values, finalize)\u001b[0m\n\u001b[1;32m    639\u001b[0m \u001b[0;34m\u001b[0m\u001b[0m\n\u001b[1;32m    640\u001b[0m       \u001b[0msys\u001b[0m\u001b[0;34m.\u001b[0m\u001b[0mstdout\u001b[0m\u001b[0;34m.\u001b[0m\u001b[0mwrite\u001b[0m\u001b[0;34m(\u001b[0m\u001b[0minfo\u001b[0m\u001b[0;34m)\u001b[0m\u001b[0;34m\u001b[0m\u001b[0;34m\u001b[0m\u001b[0m\n\u001b[0;32m--> 641\u001b[0;31m       \u001b[0msys\u001b[0m\u001b[0;34m.\u001b[0m\u001b[0mstdout\u001b[0m\u001b[0;34m.\u001b[0m\u001b[0mflush\u001b[0m\u001b[0;34m(\u001b[0m\u001b[0;34m)\u001b[0m\u001b[0;34m\u001b[0m\u001b[0;34m\u001b[0m\u001b[0m\n\u001b[0m\u001b[1;32m    642\u001b[0m \u001b[0;34m\u001b[0m\u001b[0m\n\u001b[1;32m    643\u001b[0m     \u001b[0;32melif\u001b[0m \u001b[0mself\u001b[0m\u001b[0;34m.\u001b[0m\u001b[0mverbose\u001b[0m \u001b[0;34m==\u001b[0m \u001b[0;36m2\u001b[0m\u001b[0;34m:\u001b[0m\u001b[0;34m\u001b[0m\u001b[0;34m\u001b[0m\u001b[0m\n",
            "\u001b[0;32m/usr/local/lib/python3.7/dist-packages/ipykernel/iostream.py\u001b[0m in \u001b[0;36mflush\u001b[0;34m(self)\u001b[0m\n\u001b[1;32m    347\u001b[0m                 \u001b[0mself\u001b[0m\u001b[0;34m.\u001b[0m\u001b[0mpub_thread\u001b[0m\u001b[0;34m.\u001b[0m\u001b[0mschedule\u001b[0m\u001b[0;34m(\u001b[0m\u001b[0mevt\u001b[0m\u001b[0;34m.\u001b[0m\u001b[0mset\u001b[0m\u001b[0;34m)\u001b[0m\u001b[0;34m\u001b[0m\u001b[0;34m\u001b[0m\u001b[0m\n\u001b[1;32m    348\u001b[0m                 \u001b[0;31m# and give a timeout to avoid\u001b[0m\u001b[0;34m\u001b[0m\u001b[0;34m\u001b[0m\u001b[0;34m\u001b[0m\u001b[0m\n\u001b[0;32m--> 349\u001b[0;31m                 \u001b[0;32mif\u001b[0m \u001b[0;32mnot\u001b[0m \u001b[0mevt\u001b[0m\u001b[0;34m.\u001b[0m\u001b[0mwait\u001b[0m\u001b[0;34m(\u001b[0m\u001b[0mself\u001b[0m\u001b[0;34m.\u001b[0m\u001b[0mflush_timeout\u001b[0m\u001b[0;34m)\u001b[0m\u001b[0;34m:\u001b[0m\u001b[0;34m\u001b[0m\u001b[0;34m\u001b[0m\u001b[0m\n\u001b[0m\u001b[1;32m    350\u001b[0m                     \u001b[0;31m# write directly to __stderr__ instead of warning because\u001b[0m\u001b[0;34m\u001b[0m\u001b[0;34m\u001b[0m\u001b[0;34m\u001b[0m\u001b[0m\n\u001b[1;32m    351\u001b[0m                     \u001b[0;31m# if this is happening sys.stderr may be the problem.\u001b[0m\u001b[0;34m\u001b[0m\u001b[0;34m\u001b[0m\u001b[0;34m\u001b[0m\u001b[0m\n",
            "\u001b[0;32m/usr/lib/python3.7/threading.py\u001b[0m in \u001b[0;36mwait\u001b[0;34m(self, timeout)\u001b[0m\n\u001b[1;32m    550\u001b[0m             \u001b[0msignaled\u001b[0m \u001b[0;34m=\u001b[0m \u001b[0mself\u001b[0m\u001b[0;34m.\u001b[0m\u001b[0m_flag\u001b[0m\u001b[0;34m\u001b[0m\u001b[0;34m\u001b[0m\u001b[0m\n\u001b[1;32m    551\u001b[0m             \u001b[0;32mif\u001b[0m \u001b[0;32mnot\u001b[0m \u001b[0msignaled\u001b[0m\u001b[0;34m:\u001b[0m\u001b[0;34m\u001b[0m\u001b[0;34m\u001b[0m\u001b[0m\n\u001b[0;32m--> 552\u001b[0;31m                 \u001b[0msignaled\u001b[0m \u001b[0;34m=\u001b[0m \u001b[0mself\u001b[0m\u001b[0;34m.\u001b[0m\u001b[0m_cond\u001b[0m\u001b[0;34m.\u001b[0m\u001b[0mwait\u001b[0m\u001b[0;34m(\u001b[0m\u001b[0mtimeout\u001b[0m\u001b[0;34m)\u001b[0m\u001b[0;34m\u001b[0m\u001b[0;34m\u001b[0m\u001b[0m\n\u001b[0m\u001b[1;32m    553\u001b[0m             \u001b[0;32mreturn\u001b[0m \u001b[0msignaled\u001b[0m\u001b[0;34m\u001b[0m\u001b[0;34m\u001b[0m\u001b[0m\n\u001b[1;32m    554\u001b[0m \u001b[0;34m\u001b[0m\u001b[0m\n",
            "\u001b[0;32m/usr/lib/python3.7/threading.py\u001b[0m in \u001b[0;36mwait\u001b[0;34m(self, timeout)\u001b[0m\n\u001b[1;32m    298\u001b[0m             \u001b[0;32melse\u001b[0m\u001b[0;34m:\u001b[0m\u001b[0;34m\u001b[0m\u001b[0;34m\u001b[0m\u001b[0m\n\u001b[1;32m    299\u001b[0m                 \u001b[0;32mif\u001b[0m \u001b[0mtimeout\u001b[0m \u001b[0;34m>\u001b[0m \u001b[0;36m0\u001b[0m\u001b[0;34m:\u001b[0m\u001b[0;34m\u001b[0m\u001b[0;34m\u001b[0m\u001b[0m\n\u001b[0;32m--> 300\u001b[0;31m                     \u001b[0mgotit\u001b[0m \u001b[0;34m=\u001b[0m \u001b[0mwaiter\u001b[0m\u001b[0;34m.\u001b[0m\u001b[0macquire\u001b[0m\u001b[0;34m(\u001b[0m\u001b[0;32mTrue\u001b[0m\u001b[0;34m,\u001b[0m \u001b[0mtimeout\u001b[0m\u001b[0;34m)\u001b[0m\u001b[0;34m\u001b[0m\u001b[0;34m\u001b[0m\u001b[0m\n\u001b[0m\u001b[1;32m    301\u001b[0m                 \u001b[0;32melse\u001b[0m\u001b[0;34m:\u001b[0m\u001b[0;34m\u001b[0m\u001b[0;34m\u001b[0m\u001b[0m\n\u001b[1;32m    302\u001b[0m                     \u001b[0mgotit\u001b[0m \u001b[0;34m=\u001b[0m \u001b[0mwaiter\u001b[0m\u001b[0;34m.\u001b[0m\u001b[0macquire\u001b[0m\u001b[0;34m(\u001b[0m\u001b[0;32mFalse\u001b[0m\u001b[0;34m)\u001b[0m\u001b[0;34m\u001b[0m\u001b[0;34m\u001b[0m\u001b[0m\n",
            "\u001b[0;31mKeyboardInterrupt\u001b[0m: "
          ]
        }
      ]
    },
    {
      "cell_type": "code",
      "source": [
        "tf.keras.models.save_model(model, \"/content/drive/MyDrive/TFG/models/FCNN_model.h5\")"
      ],
      "metadata": {
        "id": "SHb36vOqH3zd"
      },
      "execution_count": null,
      "outputs": []
    },
    {
      "cell_type": "code",
      "source": [
        "FCNN_history = history"
      ],
      "metadata": {
        "id": "wKT49U1OH-i_"
      },
      "execution_count": null,
      "outputs": []
    },
    {
      "cell_type": "code",
      "source": [
        "FCNN_history.history"
      ],
      "metadata": {
        "id": "F2HKRSLLqyQW"
      },
      "execution_count": null,
      "outputs": []
    },
    {
      "cell_type": "markdown",
      "source": [
        "#### LSTM"
      ],
      "metadata": {
        "id": "x7TM46QsHa_e"
      }
    },
    {
      "cell_type": "code",
      "source": [
        "optimizer, lr = transformers.create_optimizer(init_lr  = 2e-4, num_train_steps = num_steps,num_warmup_steps = 0.1*num_steps, weight_decay_rate =.01)\n",
        "\n",
        "model= Sequential()\n",
        "    \n",
        "model.add(Embedding(input_dim= embedding_matrix.shape[0], output_dim= embedding_matrix.shape[1],weights=[embedding_matrix], input_length=max_len))\n",
        "\n",
        "model.add(tf.keras.layers.Bidirectional(LSTM(max_len, return_sequences=True))) ## if we were using a GPU backend we should remove recurrent dropout\n",
        "    \n",
        "model.add(GlobalMaxPool1D())\n",
        "model.add(BatchNormalization())\n",
        "model.add(Dropout(0.5))\n",
        "model.add(Dense(max_len, activation=\"relu\"))\n",
        "model.add(Dense(max_len, activation=\"relu\"))\n",
        "    \n",
        "model.add(BatchNormalization())\n",
        "model.add(Dropout(0.5))\n",
        "model.add(Dense(max_len, activation=\"relu\"))\n",
        "    \n",
        "model.add(Dense(2, activation=\"softmax\"))\n",
        "    \n",
        "\n",
        "model.compile(optimizer=optimizer, loss='binary_crossentropy', metrics=['accuracy',tf.keras.metrics.Recall(),tf.keras.metrics.Precision()],steps_per_execution=32)\n",
        "  \n",
        "\n"
      ],
      "metadata": {
        "execution": {
          "iopub.status.busy": "2022-06-18T18:42:10.490537Z",
          "iopub.execute_input": "2022-06-18T18:42:10.491692Z",
          "iopub.status.idle": "2022-06-18T18:42:11.276167Z",
          "shell.execute_reply.started": "2022-06-18T18:42:10.491655Z",
          "shell.execute_reply": "2022-06-18T18:42:11.275356Z"
        },
        "trusted": true,
        "id": "w6YRQJG6JInC"
      },
      "execution_count": null,
      "outputs": []
    },
    {
      "cell_type": "code",
      "source": [
        "tf.keras.utils.plot_model(model,show_layer_names=False, rankdir = 'LR')"
      ],
      "metadata": {
        "id": "8CRuAxjfkHTj"
      },
      "execution_count": null,
      "outputs": []
    },
    {
      "cell_type": "code",
      "source": [
        "x_train=np.array(x_train)\n",
        "x_valid=np.array(x_valid)\n",
        "y_train=np.array(y_train)\n",
        "y_valid=np.array(y_valid)\n",
        "x_test_pad= np.array(x_test_pad)\n",
        "test_labels= np.array(df_testing['Y'])"
      ],
      "metadata": {
        "execution": {
          "iopub.status.busy": "2022-06-18T18:42:11.277480Z",
          "iopub.execute_input": "2022-06-18T18:42:11.278049Z",
          "iopub.status.idle": "2022-06-18T18:42:11.294491Z",
          "shell.execute_reply.started": "2022-06-18T18:42:11.278013Z",
          "shell.execute_reply": "2022-06-18T18:42:11.293791Z"
        },
        "trusted": true,
        "id": "c1nXEfBcJInC"
      },
      "execution_count": null,
      "outputs": []
    },
    {
      "cell_type": "code",
      "source": [
        "history = model.fit(x_train, y_train,validation_data=(x_valid,y_valid),epochs=50, batch_size=32, callbacks=[EarlyStopping(patience=5, restore_best_weights=True), ModelCheckpoint(\"ModeloLSTM_embedd.h5\", save_best_weights=True)])"
      ],
      "metadata": {
        "execution": {
          "iopub.status.busy": "2022-06-18T18:42:11.295735Z",
          "iopub.execute_input": "2022-06-18T18:42:11.296256Z",
          "iopub.status.idle": "2022-06-18T18:42:18.669654Z",
          "shell.execute_reply.started": "2022-06-18T18:42:11.296222Z",
          "shell.execute_reply": "2022-06-18T18:42:18.667460Z"
        },
        "trusted": true,
        "id": "mFL17HkvJInD"
      },
      "execution_count": null,
      "outputs": []
    },
    {
      "cell_type": "code",
      "source": [
        "tf.keras.models.save_model(model, \"/content/drive/MyDrive/TFG/models/LSTM_model.h5\")"
      ],
      "metadata": {
        "execution": {
          "iopub.status.busy": "2022-06-18T18:08:43.457201Z",
          "iopub.status.idle": "2022-06-18T18:08:43.457872Z",
          "shell.execute_reply.started": "2022-06-18T18:08:43.457632Z",
          "shell.execute_reply": "2022-06-18T18:08:43.457656Z"
        },
        "trusted": true,
        "id": "-JztuItCJInD"
      },
      "execution_count": null,
      "outputs": []
    },
    {
      "cell_type": "markdown",
      "source": [
        "#### Bert model"
      ],
      "metadata": {
        "id": "6j6Ml88CJInD"
      }
    },
    {
      "cell_type": "code",
      "source": [
        "tokenizer = AutoTokenizer.from_pretrained('bert-base-cased')"
      ],
      "metadata": {
        "execution": {
          "iopub.status.busy": "2022-06-18T17:46:42.327282Z",
          "iopub.status.idle": "2022-06-18T17:46:42.327962Z",
          "shell.execute_reply.started": "2022-06-18T17:46:42.327755Z",
          "shell.execute_reply": "2022-06-18T17:46:42.327777Z"
        },
        "trusted": true,
        "id": "Jd_e0oG6JInD"
      },
      "execution_count": null,
      "outputs": []
    },
    {
      "cell_type": "code",
      "source": [
        "X_train = np.zeros((len(df_training), max_len))\n",
        "X_masks = np.zeros((len(df_training), max_len))"
      ],
      "metadata": {
        "execution": {
          "iopub.status.busy": "2022-06-18T17:46:42.328935Z",
          "iopub.status.idle": "2022-06-18T17:46:42.329549Z",
          "shell.execute_reply.started": "2022-06-18T17:46:42.32935Z",
          "shell.execute_reply": "2022-06-18T17:46:42.329371Z"
        },
        "trusted": true,
        "id": "dBSmm4xIJInE"
      },
      "execution_count": null,
      "outputs": []
    },
    {
      "cell_type": "code",
      "source": [
        "for i, text in enumerate(df_training['text']):\n",
        "    tokens = tokenizer.encode_plus(text, max_length= max_len, \\\n",
        "                      truncation=True, padding = \"max_length\", \\\n",
        "                      add_special_tokens =True, return_token_type_ids = False,\n",
        "                     return_attention_mask = True)\n",
        "    \n",
        "    X_train[i,:], X_masks[i,:] = tokens['input_ids'], tokens['attention_mask']"
      ],
      "metadata": {
        "execution": {
          "iopub.status.busy": "2022-06-18T17:46:42.330653Z",
          "iopub.status.idle": "2022-06-18T17:46:42.331414Z",
          "shell.execute_reply.started": "2022-06-18T17:46:42.331207Z",
          "shell.execute_reply": "2022-06-18T17:46:42.33123Z"
        },
        "trusted": true,
        "id": "azHWB2HiJInE"
      },
      "execution_count": null,
      "outputs": []
    },
    {
      "cell_type": "code",
      "source": [
        "labels = np.array(df_training['Y'])"
      ],
      "metadata": {
        "execution": {
          "iopub.status.busy": "2022-06-18T17:46:42.332405Z",
          "iopub.status.idle": "2022-06-18T17:46:42.333104Z",
          "shell.execute_reply.started": "2022-06-18T17:46:42.332882Z",
          "shell.execute_reply": "2022-06-18T17:46:42.33291Z"
        },
        "trusted": true,
        "id": "m0hTWzqmJInE"
      },
      "execution_count": null,
      "outputs": []
    },
    {
      "cell_type": "code",
      "source": [
        "with open('X_train.npy','wb') as f:\n",
        "    np.save(f, X_train)\n",
        "with open('X_masks.npy','wb') as f:\n",
        "    np.save(f, X_masks)\n",
        "with open('labels.npy','wb') as f:\n",
        "    np.save(f, labels)"
      ],
      "metadata": {
        "execution": {
          "iopub.status.busy": "2022-06-18T17:46:42.334472Z",
          "iopub.status.idle": "2022-06-18T17:46:42.335103Z",
          "shell.execute_reply.started": "2022-06-18T17:46:42.334897Z",
          "shell.execute_reply": "2022-06-18T17:46:42.334925Z"
        },
        "trusted": true,
        "id": "5NjwgOY0JInE"
      },
      "execution_count": null,
      "outputs": []
    },
    {
      "cell_type": "code",
      "source": [
        "with open('./X_train.npy','rb') as f:\n",
        "    X_train = np.load(f)\n",
        "with open('./X_masks.npy','rb') as f:\n",
        "    X_masks = np.load(f)\n",
        "with open('./labels.npy','rb') as f:\n",
        "    labels = np.load(f)"
      ],
      "metadata": {
        "execution": {
          "iopub.status.busy": "2022-06-18T17:46:42.336438Z",
          "iopub.status.idle": "2022-06-18T17:46:42.337216Z",
          "shell.execute_reply.started": "2022-06-18T17:46:42.336938Z",
          "shell.execute_reply": "2022-06-18T17:46:42.336975Z"
        },
        "trusted": true,
        "id": "uP-ludSJJInE"
      },
      "execution_count": null,
      "outputs": []
    },
    {
      "cell_type": "code",
      "source": [
        "X_train,X_valid,X_masks_train, X_masks_valid,labels_train,labels_valid = train_test_split(X_train,X_masks,labels)"
      ],
      "metadata": {
        "id": "B4MxR_Fhx9QX"
      },
      "execution_count": null,
      "outputs": []
    },
    {
      "cell_type": "code",
      "source": [
        "train = tf.data.Dataset.from_tensor_slices((X_train,X_masks_train,labels_train))\n",
        "validation = tf.data.Dataset.from_tensor_slices((X_valid,X_masks_valid,labels_valid))"
      ],
      "metadata": {
        "execution": {
          "iopub.status.busy": "2022-06-18T17:46:42.338251Z",
          "iopub.status.idle": "2022-06-18T17:46:42.338553Z",
          "shell.execute_reply.started": "2022-06-18T17:46:42.338393Z",
          "shell.execute_reply": "2022-06-18T17:46:42.338409Z"
        },
        "trusted": true,
        "id": "LZHpKvVfJInE"
      },
      "execution_count": null,
      "outputs": []
    },
    {
      "cell_type": "code",
      "source": [
        "def map_func(input_ids, masks , labels):\n",
        "    return {'input_ids': input_ids, 'attention_mask':masks},labels"
      ],
      "metadata": {
        "execution": {
          "iopub.status.busy": "2022-06-18T17:46:42.339511Z",
          "iopub.status.idle": "2022-06-18T17:46:42.340206Z",
          "shell.execute_reply.started": "2022-06-18T17:46:42.339953Z",
          "shell.execute_reply": "2022-06-18T17:46:42.339985Z"
        },
        "trusted": true,
        "id": "cektmCLMJInF"
      },
      "execution_count": null,
      "outputs": []
    },
    {
      "cell_type": "code",
      "source": [
        "train = train.map(map_func)\n",
        "validation = validation.map(map_func)"
      ],
      "metadata": {
        "execution": {
          "iopub.status.busy": "2022-06-18T17:46:42.342155Z",
          "iopub.status.idle": "2022-06-18T17:46:42.34329Z",
          "shell.execute_reply.started": "2022-06-18T17:46:42.342973Z",
          "shell.execute_reply": "2022-06-18T17:46:42.343007Z"
        },
        "trusted": true,
        "id": "tG525ibaJInF"
      },
      "execution_count": null,
      "outputs": []
    },
    {
      "cell_type": "code",
      "source": [
        "train = train.shuffle(1000000).batch(32)\n",
        "validation = validation.shuffle(1000000).batch(32)"
      ],
      "metadata": {
        "execution": {
          "iopub.status.busy": "2022-06-18T17:46:42.345012Z",
          "iopub.status.idle": "2022-06-18T17:46:42.34552Z",
          "shell.execute_reply.started": "2022-06-18T17:46:42.345252Z",
          "shell.execute_reply": "2022-06-18T17:46:42.345279Z"
        },
        "trusted": true,
        "id": "Ouox1xo4JInF"
      },
      "execution_count": null,
      "outputs": []
    },
    {
      "cell_type": "code",
      "source": [
        "DS_LEN = len(list(train))"
      ],
      "metadata": {
        "execution": {
          "iopub.status.busy": "2022-06-18T17:46:42.347278Z",
          "iopub.status.idle": "2022-06-18T17:46:42.348081Z",
          "shell.execute_reply.started": "2022-06-18T17:46:42.347887Z",
          "shell.execute_reply": "2022-06-18T17:46:42.347908Z"
        },
        "trusted": true,
        "id": "Fpcxd14gJInF"
      },
      "execution_count": null,
      "outputs": []
    },
    {
      "cell_type": "code",
      "source": [
        "bert = TFAutoModel.from_pretrained('bert-base-cased')"
      ],
      "metadata": {
        "execution": {
          "iopub.status.busy": "2022-06-18T17:46:42.351291Z",
          "iopub.status.idle": "2022-06-18T17:46:42.351996Z",
          "shell.execute_reply.started": "2022-06-18T17:46:42.351691Z",
          "shell.execute_reply": "2022-06-18T17:46:42.35172Z"
        },
        "trusted": true,
        "id": "b0MrLyGCJInF"
      },
      "execution_count": null,
      "outputs": []
    },
    {
      "cell_type": "code",
      "source": [
        "input_ids = tf.keras.layers.Input(shape=(max_len,), name = 'input_ids', dtype = 'int32')\n",
        "mask = tf.keras.layers.Input(shape=(max_len,), name = 'attention_mask', dtype = 'int32')"
      ],
      "metadata": {
        "execution": {
          "iopub.status.busy": "2022-06-18T17:46:42.353267Z",
          "iopub.status.idle": "2022-06-18T17:46:42.353614Z",
          "shell.execute_reply.started": "2022-06-18T17:46:42.353433Z",
          "shell.execute_reply": "2022-06-18T17:46:42.353458Z"
        },
        "trusted": true,
        "id": "7IhIlyUCJInF"
      },
      "execution_count": null,
      "outputs": []
    },
    {
      "cell_type": "code",
      "source": [
        "embeddings = bert(input_ids, attention_mask = mask)[0]"
      ],
      "metadata": {
        "execution": {
          "iopub.status.busy": "2022-06-18T17:46:42.355248Z",
          "iopub.status.idle": "2022-06-18T17:46:42.355938Z",
          "shell.execute_reply.started": "2022-06-18T17:46:42.355642Z",
          "shell.execute_reply": "2022-06-18T17:46:42.355671Z"
        },
        "trusted": true,
        "id": "G0aQsPhAJInG"
      },
      "execution_count": null,
      "outputs": []
    },
    {
      "cell_type": "code",
      "source": [
        "epochs = 50\n",
        "\n",
        "total_steps = DS_LEN * epochs\n",
        "\n"
      ],
      "metadata": {
        "execution": {
          "iopub.status.busy": "2022-06-18T17:46:42.357133Z",
          "iopub.status.idle": "2022-06-18T17:46:42.357483Z",
          "shell.execute_reply.started": "2022-06-18T17:46:42.357307Z",
          "shell.execute_reply": "2022-06-18T17:46:42.357327Z"
        },
        "trusted": true,
        "id": "UOgKJUWIJInG"
      },
      "execution_count": null,
      "outputs": []
    },
    {
      "cell_type": "code",
      "source": [
        "####Try to improve this \n",
        "X = tf.keras.layers.Bidirectional(GRU(max_len, return_sequences=True))(embeddings)\n",
        "X = tf.keras.layers.Dense(128, activation = 'selu')(X)\n",
        "X = tf.keras.layers.Dropout(0.1)(X)\n",
        "X = tf.keras.layers.Dense(128, activation = 'selu')(X)\n",
        "X = tf.keras.layers.GlobalMaxPool1D()(X)\n",
        "X = tf.keras.layers.Dense(128, activation = 'selu')(X)\n",
        "X = tf.keras.layers.Dropout(0.3)(X)\n",
        "X = tf.keras.layers.Dense(128, activation = 'selu')(X)\n",
        "X = tf.keras.layers.Dropout(0.3)(X)\n",
        "X = tf.keras.layers.Dense(32, activation = 'selu')(X)\n",
        "y = tf.keras.layers.Dense(1, activation = 'sigmoid', name = 'outputs')(X)\n",
        "\n",
        "\n",
        "model = tf.keras.Model(inputs=[input_ids, mask], outputs =y )\n",
        "\n",
        "model.layers[2].trainable = False"
      ],
      "metadata": {
        "execution": {
          "iopub.status.busy": "2022-06-18T17:46:42.359157Z",
          "iopub.status.idle": "2022-06-18T17:46:42.359955Z",
          "shell.execute_reply.started": "2022-06-18T17:46:42.359665Z",
          "shell.execute_reply": "2022-06-18T17:46:42.359696Z"
        },
        "trusted": true,
        "id": "myKXYyVCJInG"
      },
      "execution_count": null,
      "outputs": []
    },
    {
      "cell_type": "code",
      "source": [
        "tf.keras.utils.plot_model(model,show_layer_names=False,rankdir='LR')"
      ],
      "metadata": {
        "execution": {
          "iopub.status.busy": "2022-06-18T17:46:42.361335Z",
          "iopub.status.idle": "2022-06-18T17:46:42.362064Z",
          "shell.execute_reply.started": "2022-06-18T17:46:42.361814Z",
          "shell.execute_reply": "2022-06-18T17:46:42.36186Z"
        },
        "trusted": true,
        "id": "3q_6VIOgJInG"
      },
      "execution_count": null,
      "outputs": []
    },
    {
      "cell_type": "code",
      "source": [
        "num_steps = epochs * DS_LEN\n",
        "\n",
        "optimizer, lr = transformers.create_optimizer(init_lr  = 8e-4, num_train_steps = num_steps,num_warmup_steps = 0.1*num_steps, weight_decay_rate =.01)\n",
        "\n",
        "model.compile(optimizer=optimizer, loss='binary_crossentropy', metrics=['accuracy',tf.keras.metrics.Recall(),tf.keras.metrics.Precision()])\n"
      ],
      "metadata": {
        "execution": {
          "iopub.status.busy": "2022-06-18T17:46:42.363966Z",
          "iopub.status.idle": "2022-06-18T17:46:42.364415Z",
          "shell.execute_reply.started": "2022-06-18T17:46:42.364146Z",
          "shell.execute_reply": "2022-06-18T17:46:42.364167Z"
        },
        "trusted": true,
        "id": "PmveyQ2_JInG"
      },
      "execution_count": null,
      "outputs": []
    },
    {
      "cell_type": "code",
      "source": [
        "history = model.fit(train, validation_data = validation, \n",
        "                                        epochs=epochs, batch_size=32, callbacks=[EarlyStopping(patience=5, restore_best_weights=True, min_delta = 0.01), \n",
        "                                       ModelCheckpoint(\"ModeloBert.h5\", save_best_weights=True)])\n",
        "\n"
      ],
      "metadata": {
        "execution": {
          "iopub.status.busy": "2022-06-18T17:46:42.366242Z",
          "iopub.status.idle": "2022-06-18T17:46:42.366623Z",
          "shell.execute_reply.started": "2022-06-18T17:46:42.366436Z",
          "shell.execute_reply": "2022-06-18T17:46:42.366458Z"
        },
        "trusted": true,
        "id": "sk-9GPydJInG"
      },
      "execution_count": null,
      "outputs": []
    },
    {
      "cell_type": "code",
      "source": [
        "tf.keras.models.save_model(model, \"/content/drive/MyDrive/TFG/models/BERT.h5\")"
      ],
      "metadata": {
        "execution": {
          "iopub.status.busy": "2022-06-18T17:46:42.368187Z",
          "iopub.status.idle": "2022-06-18T17:46:42.368538Z",
          "shell.execute_reply.started": "2022-06-18T17:46:42.368362Z",
          "shell.execute_reply": "2022-06-18T17:46:42.368382Z"
        },
        "trusted": true,
        "id": "vlfqr8_dJInH"
      },
      "execution_count": null,
      "outputs": []
    },
    {
      "cell_type": "code",
      "source": [
        "BERT_history = history"
      ],
      "metadata": {
        "id": "k5VFiXxguZYC"
      },
      "execution_count": null,
      "outputs": []
    },
    {
      "cell_type": "markdown",
      "source": [
        "#### DistilBert"
      ],
      "metadata": {
        "id": "nY4albEWJInH"
      }
    },
    {
      "cell_type": "code",
      "source": [
        "from transformers import DistilBertTokenizer, TFDistilBertModel\n",
        "\n",
        "tokenizer = DistilBertTokenizer.from_pretrained('distilbert-base-cased') \n",
        "distilbert = TFDistilBertModel.from_pretrained('distilbert-base-cased')\n",
        "\n",
        "model = distilbert"
      ],
      "metadata": {
        "execution": {
          "iopub.status.busy": "2022-06-18T17:46:42.372083Z",
          "iopub.status.idle": "2022-06-18T17:46:42.372425Z",
          "shell.execute_reply.started": "2022-06-18T17:46:42.372247Z",
          "shell.execute_reply": "2022-06-18T17:46:42.372269Z"
        },
        "trusted": true,
        "id": "hChOXnt7JInH"
      },
      "execution_count": null,
      "outputs": []
    },
    {
      "cell_type": "code",
      "source": [
        "X_train = np.zeros((len(df_training), max_len))\n",
        "X_masks = np.zeros((len(df_training), max_len))"
      ],
      "metadata": {
        "execution": {
          "iopub.status.busy": "2022-06-18T17:46:42.374299Z",
          "iopub.status.idle": "2022-06-18T17:46:42.375056Z",
          "shell.execute_reply.started": "2022-06-18T17:46:42.374789Z",
          "shell.execute_reply": "2022-06-18T17:46:42.374827Z"
        },
        "trusted": true,
        "id": "jcmiZIl_JInH"
      },
      "execution_count": null,
      "outputs": []
    },
    {
      "cell_type": "code",
      "source": [
        "for i, text in enumerate(df_training['text']):\n",
        "    tokens = tokenizer.encode_plus(text, max_length= max_len, \\\n",
        "                      truncation=True, padding = \"max_length\", \\\n",
        "                      add_special_tokens =True, return_token_type_ids = False,\n",
        "                     return_attention_mask = True)\n",
        "    \n",
        "    X_train[i,:], X_masks[i,:] = tokens['input_ids'], tokens['attention_mask']"
      ],
      "metadata": {
        "execution": {
          "iopub.status.busy": "2022-06-18T17:46:42.376126Z",
          "iopub.status.idle": "2022-06-18T17:46:42.376485Z",
          "shell.execute_reply.started": "2022-06-18T17:46:42.376297Z",
          "shell.execute_reply": "2022-06-18T17:46:42.376318Z"
        },
        "trusted": true,
        "id": "TJ7IxAA-JInI"
      },
      "execution_count": null,
      "outputs": []
    },
    {
      "cell_type": "code",
      "source": [
        "labels = np.array(df_training['Y'])"
      ],
      "metadata": {
        "execution": {
          "iopub.status.busy": "2022-06-18T17:46:42.377786Z",
          "iopub.status.idle": "2022-06-18T17:46:42.378157Z",
          "shell.execute_reply.started": "2022-06-18T17:46:42.377978Z",
          "shell.execute_reply": "2022-06-18T17:46:42.378001Z"
        },
        "trusted": true,
        "id": "AFz8iIECJInI"
      },
      "execution_count": null,
      "outputs": []
    },
    {
      "cell_type": "code",
      "source": [
        "with open('X_train.npy','wb') as f:\n",
        "    np.save(f, X_train)\n",
        "with open('X_masks.npy','wb') as f:\n",
        "    np.save(f, X_masks)\n",
        "with open('labels.npy','wb') as f:\n",
        "    np.save(f, labels)"
      ],
      "metadata": {
        "execution": {
          "iopub.status.busy": "2022-06-18T17:46:42.380149Z",
          "iopub.status.idle": "2022-06-18T17:46:42.380827Z",
          "shell.execute_reply.started": "2022-06-18T17:46:42.38061Z",
          "shell.execute_reply": "2022-06-18T17:46:42.380633Z"
        },
        "trusted": true,
        "id": "Lwedhe0IJInI"
      },
      "execution_count": null,
      "outputs": []
    },
    {
      "cell_type": "code",
      "source": [
        "with open('./X_train.npy','rb') as f:\n",
        "    X_train = np.load(f)\n",
        "with open('./X_masks.npy','rb') as f:\n",
        "    X_masks = np.load(f)\n",
        "with open('./labels.npy','rb') as f:\n",
        "    labels = np.load(f)"
      ],
      "metadata": {
        "execution": {
          "iopub.status.busy": "2022-06-18T17:46:42.381931Z",
          "iopub.status.idle": "2022-06-18T17:46:42.382273Z",
          "shell.execute_reply.started": "2022-06-18T17:46:42.382093Z",
          "shell.execute_reply": "2022-06-18T17:46:42.382116Z"
        },
        "trusted": true,
        "id": "SrtgILEuJInI"
      },
      "execution_count": null,
      "outputs": []
    },
    {
      "cell_type": "code",
      "source": [
        "X_train_source,X_masks_source,labels_source = X_train,X_masks,labels"
      ],
      "metadata": {
        "id": "oEMz0DF6t3OT"
      },
      "execution_count": null,
      "outputs": []
    },
    {
      "cell_type": "code",
      "source": [
        "X_train,X_valid,X_masks_train, X_masks_valid,labels_train,labels_valid = train_test_split(X_train,X_masks,labels, train_size = 0.75*prop)"
      ],
      "metadata": {
        "id": "VhyPpKIr1OHH"
      },
      "execution_count": null,
      "outputs": []
    },
    {
      "cell_type": "code",
      "source": [
        "train = tf.data.Dataset.from_tensor_slices((X_train,X_masks_train,labels_train))\n",
        "validation = tf.data.Dataset.from_tensor_slices((X_valid,X_masks_valid,labels_valid))"
      ],
      "metadata": {
        "execution": {
          "iopub.status.busy": "2022-06-18T17:46:42.383969Z",
          "iopub.status.idle": "2022-06-18T17:46:42.384863Z",
          "shell.execute_reply.started": "2022-06-18T17:46:42.384626Z",
          "shell.execute_reply": "2022-06-18T17:46:42.384652Z"
        },
        "trusted": true,
        "id": "7h7UNOWXJInI"
      },
      "execution_count": null,
      "outputs": []
    },
    {
      "cell_type": "code",
      "source": [
        "def map_func(input_ids, masks , labels):\n",
        "    return {'input_ids': input_ids, 'attention_mask':masks},labels"
      ],
      "metadata": {
        "id": "7dPUuLGR1YPH"
      },
      "execution_count": null,
      "outputs": []
    },
    {
      "cell_type": "code",
      "source": [
        "train = train.map(map_func)\n",
        "validation = validation.map(map_func)"
      ],
      "metadata": {
        "execution": {
          "iopub.status.busy": "2022-06-18T17:46:42.387724Z",
          "iopub.status.idle": "2022-06-18T17:46:42.388076Z",
          "shell.execute_reply.started": "2022-06-18T17:46:42.387902Z",
          "shell.execute_reply": "2022-06-18T17:46:42.387924Z"
        },
        "trusted": true,
        "id": "Qq5mkuQYJInJ"
      },
      "execution_count": null,
      "outputs": []
    },
    {
      "cell_type": "code",
      "source": [
        "train = train.shuffle(1000000).batch(32)\n",
        "validation = validation.shuffle(1000000).batch(32)"
      ],
      "metadata": {
        "execution": {
          "iopub.status.busy": "2022-06-18T17:46:42.389344Z",
          "iopub.status.idle": "2022-06-18T17:46:42.390042Z",
          "shell.execute_reply.started": "2022-06-18T17:46:42.389826Z",
          "shell.execute_reply": "2022-06-18T17:46:42.389862Z"
        },
        "trusted": true,
        "id": "B934z3uJJInJ"
      },
      "execution_count": null,
      "outputs": []
    },
    {
      "cell_type": "code",
      "source": [
        "DS_LEN = len(list(train))"
      ],
      "metadata": {
        "execution": {
          "iopub.status.busy": "2022-06-18T17:46:42.390946Z",
          "iopub.status.idle": "2022-06-18T17:46:42.391242Z",
          "shell.execute_reply.started": "2022-06-18T17:46:42.391087Z",
          "shell.execute_reply": "2022-06-18T17:46:42.391102Z"
        },
        "trusted": true,
        "id": "-0c-ibQ5JInJ"
      },
      "execution_count": null,
      "outputs": []
    },
    {
      "cell_type": "code",
      "source": [
        "input_ids = tf.keras.layers.Input(shape=(max_len,), name = 'input_ids', dtype = 'int32')\n",
        "mask = tf.keras.layers.Input(shape=(max_len,),name = 'attention_mask', dtype = 'int32')\n"
      ],
      "metadata": {
        "execution": {
          "iopub.status.busy": "2022-06-18T17:46:42.393313Z",
          "iopub.status.idle": "2022-06-18T17:46:42.393615Z",
          "shell.execute_reply.started": "2022-06-18T17:46:42.393458Z",
          "shell.execute_reply": "2022-06-18T17:46:42.393474Z"
        },
        "trusted": true,
        "id": "pyRg6ZchJInJ"
      },
      "execution_count": null,
      "outputs": []
    },
    {
      "cell_type": "code",
      "source": [
        "embeddings = model(input_ids,attention_mask = mask)[0]\n",
        "\n",
        "\n"
      ],
      "metadata": {
        "execution": {
          "iopub.status.busy": "2022-06-18T17:46:42.394939Z",
          "iopub.status.idle": "2022-06-18T17:46:42.395407Z",
          "shell.execute_reply.started": "2022-06-18T17:46:42.395154Z",
          "shell.execute_reply": "2022-06-18T17:46:42.395179Z"
        },
        "trusted": true,
        "id": "fA5SG-4BJInJ"
      },
      "execution_count": null,
      "outputs": []
    },
    {
      "cell_type": "code",
      "source": [
        "####Try to improve this \n",
        "X = tf.keras.layers.Bidirectional(LSTM(max_len, return_sequences=True))(embeddings)\n",
        "X = tf.keras.layers.Dense(128, activation = 'selu')(X)\n",
        "X = tf.keras.layers.GlobalMaxPool1D()(X)\n",
        "X = tf.keras.layers.Dense(128, activation = 'selu')(X)\n",
        "X = tf.keras.layers.Dropout(0.3)(X)\n",
        "X = tf.keras.layers.Dense(128, activation = 'selu')(X)\n",
        "X = tf.keras.layers.Dropout(0.3)(X)\n",
        "X = tf.keras.layers.Dense(32, activation = 'selu')(X)\n",
        "y = tf.keras.layers.Dense(1, activation = 'sigmoid', name = 'outputs')(X)\n",
        "\n",
        "\n",
        "model = tf.keras.Model(inputs=[input_ids, mask], outputs =y )\n",
        "\n",
        "model.layers[2].trainable = False"
      ],
      "metadata": {
        "execution": {
          "iopub.status.busy": "2022-06-18T17:46:42.397587Z",
          "iopub.status.idle": "2022-06-18T17:46:42.398085Z",
          "shell.execute_reply.started": "2022-06-18T17:46:42.397798Z",
          "shell.execute_reply": "2022-06-18T17:46:42.397824Z"
        },
        "trusted": true,
        "id": "B8yvT0hRJInK"
      },
      "execution_count": null,
      "outputs": []
    },
    {
      "cell_type": "code",
      "source": [
        "tf.keras.utils.plot_model(model,show_layer_names=False, rankdir= 'LR')"
      ],
      "metadata": {
        "execution": {
          "iopub.status.busy": "2022-06-18T17:46:42.399589Z",
          "iopub.status.idle": "2022-06-18T17:46:42.400097Z",
          "shell.execute_reply.started": "2022-06-18T17:46:42.399812Z",
          "shell.execute_reply": "2022-06-18T17:46:42.399837Z"
        },
        "trusted": true,
        "id": "hNEIsSgVJInK"
      },
      "execution_count": null,
      "outputs": []
    },
    {
      "cell_type": "code",
      "source": [
        "epochs = 50\n",
        "\n",
        "num_steps = epochs * DS_LEN\n",
        "\n",
        "optimizer, lr = transformers.create_optimizer(init_lr  = 8e-5, num_train_steps = num_steps,num_warmup_steps = 0.1*num_steps, weight_decay_rate =.01)\n",
        "model.compile(optimizer=optimizer, loss='binary_crossentropy', metrics=['accuracy',tf.keras.metrics.Recall(),tf.keras.metrics.Precision()])"
      ],
      "metadata": {
        "execution": {
          "iopub.status.busy": "2022-06-18T17:46:42.401267Z",
          "iopub.status.idle": "2022-06-18T17:46:42.401724Z",
          "shell.execute_reply.started": "2022-06-18T17:46:42.401477Z",
          "shell.execute_reply": "2022-06-18T17:46:42.401502Z"
        },
        "trusted": true,
        "id": "NVSwieZDJInK"
      },
      "execution_count": null,
      "outputs": []
    },
    {
      "cell_type": "code",
      "source": [
        "history = model.fit(train, validation_data = validation, \n",
        "                                        epochs=epochs, batch_size=32, callbacks=[EarlyStopping(patience=5, restore_best_weights=True), \n",
        "                                       ModelCheckpoint(\"ModeloDistilBert.h5\", save_best_weights=True)])"
      ],
      "metadata": {
        "execution": {
          "iopub.status.busy": "2022-06-18T17:46:42.403345Z",
          "iopub.status.idle": "2022-06-18T17:46:42.403797Z",
          "shell.execute_reply.started": "2022-06-18T17:46:42.403553Z",
          "shell.execute_reply": "2022-06-18T17:46:42.403577Z"
        },
        "trusted": true,
        "id": "G11mIW3wJInK"
      },
      "execution_count": null,
      "outputs": []
    },
    {
      "cell_type": "code",
      "source": [
        "tf.keras.models.save_model(model, \"/content/drive/MyDrive/TFG/models/DistilBert.h5\")"
      ],
      "metadata": {
        "execution": {
          "iopub.status.busy": "2022-06-18T17:46:42.405149Z",
          "iopub.status.idle": "2022-06-18T17:46:42.405614Z",
          "shell.execute_reply.started": "2022-06-18T17:46:42.405361Z",
          "shell.execute_reply": "2022-06-18T17:46:42.405386Z"
        },
        "trusted": true,
        "id": "y1jldVISJInK"
      },
      "execution_count": null,
      "outputs": []
    },
    {
      "cell_type": "code",
      "source": [
        "DistilBERT_history = history"
      ],
      "metadata": {
        "id": "YGfqWNze9Zr7"
      },
      "execution_count": null,
      "outputs": []
    },
    {
      "cell_type": "markdown",
      "source": [
        "### Evaluation"
      ],
      "metadata": {
        "id": "d-LcW-BfIY2g"
      }
    },
    {
      "cell_type": "code",
      "source": [
        "optimizer, lr = transformers.create_optimizer(init_lr  = 4e-5, num_train_steps = 20,num_warmup_steps = 0.1*20, weight_decay_rate =.01)\n"
      ],
      "metadata": {
        "id": "yAag52KIvYJu"
      },
      "execution_count": null,
      "outputs": []
    },
    {
      "cell_type": "code",
      "source": [
        "model1 = tf.keras.models.load_model('/content/drive/MyDrive/TFG/models/FCNN_model.h5', custom_objects={'AdamWeightDecay': optimizer})\n",
        "model2 = tf.keras.models.load_model('/content/drive/MyDrive/TFG/models/LSTM_model.h5', custom_objects={'AdamWeightDecay': optimizer})\n",
        "model3 = tf.keras.models.load_model('/content/drive/MyDrive/TFG/models/BERT.h5', custom_objects={\"TFBertModel\": bert,'AdamWeightDecay': optimizer})\n",
        "model4 = tf.keras.models.load_model('/content/drive/MyDrive/TFG/models/DistilBert.h5', custom_objects={\"TFDistilBertModel\": distilbert, 'AdamWeightDecay': optimizer})\n"
      ],
      "metadata": {
        "execution": {
          "iopub.status.busy": "2022-06-18T17:46:42.407425Z",
          "iopub.status.idle": "2022-06-18T17:46:42.407921Z",
          "shell.execute_reply.started": "2022-06-18T17:46:42.407636Z",
          "shell.execute_reply": "2022-06-18T17:46:42.40766Z"
        },
        "trusted": true,
        "id": "COPdBDJYJInL"
      },
      "execution_count": null,
      "outputs": []
    },
    {
      "cell_type": "markdown",
      "source": [
        "#### CNN evaluation"
      ],
      "metadata": {
        "id": "IeMhPpaUJInL"
      }
    },
    {
      "cell_type": "code",
      "source": [
        "x = model1.evaluate(x_test_pad,y_test)"
      ],
      "metadata": {
        "execution": {
          "iopub.status.busy": "2022-06-18T17:46:42.409533Z",
          "iopub.status.idle": "2022-06-18T17:46:42.410025Z",
          "shell.execute_reply.started": "2022-06-18T17:46:42.409742Z",
          "shell.execute_reply": "2022-06-18T17:46:42.409767Z"
        },
        "trusted": true,
        "id": "ekmHwHYxJInL"
      },
      "execution_count": null,
      "outputs": []
    },
    {
      "cell_type": "code",
      "source": [
        "x = pd.DataFrame(x).transpose()"
      ],
      "metadata": {
        "id": "x0zT4btVvo9b"
      },
      "execution_count": null,
      "outputs": []
    },
    {
      "cell_type": "code",
      "source": [
        "pd.concat((x,x), axis=0)"
      ],
      "metadata": {
        "id": "I7QGUOWov3sR"
      },
      "execution_count": null,
      "outputs": []
    },
    {
      "cell_type": "markdown",
      "source": [
        "#### LSTM evaluation"
      ],
      "metadata": {
        "id": "vzHESWzAenXD"
      }
    },
    {
      "cell_type": "code",
      "source": [
        "model2.evaluate(x_test_pad,y_test)"
      ],
      "metadata": {
        "id": "4-yAjR7aelyk"
      },
      "execution_count": null,
      "outputs": []
    },
    {
      "cell_type": "markdown",
      "source": [
        "#### BERT + LSTM evaluation"
      ],
      "metadata": {
        "id": "3O-ZUUskJInL"
      }
    },
    {
      "cell_type": "code",
      "source": [
        "tokenizer = AutoTokenizer.from_pretrained('bert-base-cased')"
      ],
      "metadata": {
        "execution": {
          "iopub.status.busy": "2022-06-18T17:46:42.411753Z",
          "iopub.status.idle": "2022-06-18T17:46:42.41215Z",
          "shell.execute_reply.started": "2022-06-18T17:46:42.41198Z",
          "shell.execute_reply": "2022-06-18T17:46:42.411999Z"
        },
        "trusted": true,
        "id": "r5IneMzCJInL"
      },
      "execution_count": null,
      "outputs": []
    },
    {
      "cell_type": "code",
      "source": [
        "X_test = np.zeros((len(df_testing), max_len))\n",
        "X_test_masks = np.zeros((len(df_testing), max_len))\n",
        "\n",
        "for i, text in enumerate(df_testing['text']):\n",
        "    tokens = tokenizer.encode_plus(text, max_length= max_len, \\\n",
        "                      truncation=True, padding = \"max_length\", \\\n",
        "                      add_special_tokens =True, return_token_type_ids = False,\n",
        "                     return_attention_mask = True)\n",
        "    \n",
        "    X_test[i,:], X_test_masks[i,:] = tokens['input_ids'], tokens['attention_mask']\n",
        "    \n",
        "test_labels = np.array(df_testing['Y'])\n",
        "\n",
        "with open('X_test.npy','wb') as f:\n",
        "    np.save(f, X_test)\n",
        "with open('X_test_masks.npy','wb') as f:\n",
        "    np.save(f, X_test_masks)\n",
        "with open('test_labels.npy','wb') as f:\n",
        "    np.save(f, test_labels)\n"
      ],
      "metadata": {
        "execution": {
          "iopub.status.busy": "2022-06-18T17:46:42.415818Z",
          "iopub.status.idle": "2022-06-18T17:46:42.416753Z",
          "shell.execute_reply.started": "2022-06-18T17:46:42.416463Z",
          "shell.execute_reply": "2022-06-18T17:46:42.416493Z"
        },
        "trusted": true,
        "id": "VNKkyK4sJInL"
      },
      "execution_count": null,
      "outputs": []
    },
    {
      "cell_type": "code",
      "source": [
        "with open('./X_test.npy','rb') as f:\n",
        "    X_test = np.load(f)\n",
        "with open('./X_test_masks.npy','rb') as f:\n",
        "    X_test_masks = np.load(f)\n",
        "with open('./test_labels.npy','rb') as f:\n",
        "    test_labels = np.load(f)\n",
        "    \n",
        "    \n"
      ],
      "metadata": {
        "execution": {
          "iopub.status.busy": "2022-06-18T17:46:42.417995Z",
          "iopub.status.idle": "2022-06-18T17:46:42.418884Z",
          "shell.execute_reply.started": "2022-06-18T17:46:42.418578Z",
          "shell.execute_reply": "2022-06-18T17:46:42.418605Z"
        },
        "trusted": true,
        "id": "3QsRPtWVJInL"
      },
      "execution_count": null,
      "outputs": []
    },
    {
      "cell_type": "code",
      "source": [
        "dataset = tf.data.Dataset.from_tensor_slices((X_test,X_test_masks,test_labels))\n",
        "\n",
        "def map_func(input_ids, masks , labels):\n",
        "    return {'input_ids': input_ids, 'attention_mask':masks},labels\n",
        "\n",
        "dataset = dataset.map(map_func)\n",
        "dataset = dataset.shuffle(1000000).batch(32)"
      ],
      "metadata": {
        "execution": {
          "iopub.status.busy": "2022-06-18T17:46:42.420084Z",
          "iopub.status.idle": "2022-06-18T17:46:42.420968Z",
          "shell.execute_reply.started": "2022-06-18T17:46:42.42067Z",
          "shell.execute_reply": "2022-06-18T17:46:42.420697Z"
        },
        "trusted": true,
        "id": "NLq3lDhDJInM"
      },
      "execution_count": null,
      "outputs": []
    },
    {
      "cell_type": "code",
      "source": [
        "model3.evaluate(dataset)"
      ],
      "metadata": {
        "execution": {
          "iopub.status.busy": "2022-06-18T17:46:42.422364Z",
          "iopub.status.idle": "2022-06-18T17:46:42.423021Z",
          "shell.execute_reply.started": "2022-06-18T17:46:42.422736Z",
          "shell.execute_reply": "2022-06-18T17:46:42.422763Z"
        },
        "trusted": true,
        "id": "1lOiTNf6JInM"
      },
      "execution_count": null,
      "outputs": []
    },
    {
      "cell_type": "markdown",
      "source": [
        "#### Distilbert + LSTM "
      ],
      "metadata": {
        "id": "su8db17sJInM"
      }
    },
    {
      "cell_type": "code",
      "source": [
        "tokenizer = DistilBertTokenizer.from_pretrained('distilbert-base-cased') "
      ],
      "metadata": {
        "execution": {
          "iopub.status.busy": "2022-06-18T17:46:42.424378Z",
          "iopub.status.idle": "2022-06-18T17:46:42.425069Z",
          "shell.execute_reply.started": "2022-06-18T17:46:42.424749Z",
          "shell.execute_reply": "2022-06-18T17:46:42.424775Z"
        },
        "trusted": true,
        "id": "kXE-Fc8iJInM"
      },
      "execution_count": null,
      "outputs": []
    },
    {
      "cell_type": "code",
      "source": [
        "X_train = np.zeros((len(df_testing), max_len))\n",
        "X_masks = np.zeros((len(df_testing), max_len))\n",
        "\n",
        "for i, text in enumerate(df_testing['text']):\n",
        "    tokens = tokenizer.encode_plus(text, max_length= max_len, \\\n",
        "                      truncation=True, padding = \"max_length\", \\\n",
        "                      add_special_tokens =True, return_token_type_ids = False,\n",
        "                     return_attention_mask = True)\n",
        "    \n",
        "    X_test[i,:], X_test_masks[i,:] = tokens['input_ids'], tokens['attention_mask']\n",
        "    \n",
        "test_labels = np.array(df_testing['Y'])\n",
        "\n",
        "with open('X_test.npy','wb') as f:\n",
        "    np.save(f, X_test)\n",
        "with open('X_test_masks.npy','wb') as f:\n",
        "    np.save(f, X_test_masks)\n",
        "with open('test_labels.npy','wb') as f:\n",
        "    np.save(f, test_labels)"
      ],
      "metadata": {
        "execution": {
          "iopub.status.busy": "2022-06-18T17:46:42.426459Z",
          "iopub.status.idle": "2022-06-18T17:46:42.427111Z",
          "shell.execute_reply.started": "2022-06-18T17:46:42.426829Z",
          "shell.execute_reply": "2022-06-18T17:46:42.426869Z"
        },
        "trusted": true,
        "id": "W4kPE0AQJInM"
      },
      "execution_count": null,
      "outputs": []
    },
    {
      "cell_type": "code",
      "source": [
        "with open('./X_test.npy','rb') as f:\n",
        "    X_test = np.load(f)\n",
        "with open('./X_test_masks.npy','rb') as f:\n",
        "    X_test_masks = np.load(f)\n",
        "with open('./test_labels.npy','rb') as f:\n",
        "    test_labels = np.load(f)"
      ],
      "metadata": {
        "execution": {
          "iopub.status.busy": "2022-06-18T17:46:42.42844Z",
          "iopub.status.idle": "2022-06-18T17:46:42.4291Z",
          "shell.execute_reply.started": "2022-06-18T17:46:42.4288Z",
          "shell.execute_reply": "2022-06-18T17:46:42.428827Z"
        },
        "trusted": true,
        "id": "RfeMmNbQJInM"
      },
      "execution_count": null,
      "outputs": []
    },
    {
      "cell_type": "code",
      "source": [
        "dataset = tf.data.Dataset.from_tensor_slices((X_test,X_test_masks,test_labels))\n",
        "\n",
        "def map_func(input_ids, masks , labels):\n",
        "    return {'input_ids': input_ids, 'attention_mask':masks},labels\n",
        "\n",
        "dataset = dataset.map(map_func)\n",
        "dataset = dataset.shuffle(1000000).batch(32)"
      ],
      "metadata": {
        "execution": {
          "iopub.status.busy": "2022-06-18T17:46:42.430315Z",
          "iopub.status.idle": "2022-06-18T17:46:42.430759Z",
          "shell.execute_reply.started": "2022-06-18T17:46:42.430584Z",
          "shell.execute_reply": "2022-06-18T17:46:42.430605Z"
        },
        "trusted": true,
        "id": "iO3YLhjMJInM"
      },
      "execution_count": null,
      "outputs": []
    },
    {
      "cell_type": "code",
      "source": [
        "model4.evaluate(dataset)"
      ],
      "metadata": {
        "execution": {
          "iopub.status.busy": "2022-06-18T17:46:42.431646Z",
          "iopub.status.idle": "2022-06-18T17:46:42.432063Z",
          "shell.execute_reply.started": "2022-06-18T17:46:42.431902Z",
          "shell.execute_reply": "2022-06-18T17:46:42.431919Z"
        },
        "trusted": true,
        "id": "SNE7mtU-JInN"
      },
      "execution_count": null,
      "outputs": []
    },
    {
      "cell_type": "code",
      "source": [],
      "metadata": {
        "id": "mrgU_pOgIQ4X"
      },
      "execution_count": null,
      "outputs": []
    },
    {
      "cell_type": "markdown",
      "source": [
        "#### Visualization validation"
      ],
      "metadata": {
        "id": "CxQovGGOISpv"
      }
    },
    {
      "cell_type": "code",
      "source": [
        "F1_FCNN = list(2*np.array(FCNN_history.history['val_precision_6'])*np.array(FCNN_history.history['val_recall_6'])/(np.array(FCNN_history.history['val_precision_6'])+ np.array(FCNN_history.history['val_recall_6'])))"
      ],
      "metadata": {
        "id": "o9_vTYS5WkuB"
      },
      "execution_count": null,
      "outputs": []
    },
    {
      "cell_type": "code",
      "source": [
        "from matplotlib import pyplot as plt\n",
        "from matplotlib.pyplot import figure\n",
        "\n",
        "figure(figsize=(8, 6), dpi=80)\n",
        "\n",
        "\n",
        "plt.plot(F1_FCNN)\n",
        "plt.plot(FCNN_history.history['val_accuracy'])\n",
        "plt.plot(FCNN_history.history['val_precision_6'])\n",
        "plt.plot(FCNN_history.history['val_recall_6'])\n",
        "plt.plot(FCNN_history.history['val_loss'])\n",
        "plt.plot(FCNN_history.history['loss'])\n",
        "plt.title('FCNN model accuracy')\n",
        "plt.xlabel('epoch')\n",
        "plt.legend([\"F1\",'Precision','Especificidad', 'Sensibilidad','Validación Loss','Training Loss'], loc='lower center')\n",
        "plt.show()"
      ],
      "metadata": {
        "id": "eXQ7ZK8MS5wh"
      },
      "execution_count": null,
      "outputs": []
    },
    {
      "cell_type": "code",
      "source": [
        "F1_LSTM= list(2*np.array(LSTM_history.history['val_precision_10'])*np.array(LSTM_history.history['val_recall_10'])/(np.array(LSTM_history.history['val_precision_10'])+ np.array(LSTM_history.history['val_recall_10'])))"
      ],
      "metadata": {
        "id": "WKVJZ_PSXRfx"
      },
      "execution_count": null,
      "outputs": []
    },
    {
      "cell_type": "code",
      "source": [
        "from matplotlib import pyplot as plt\n",
        "from matplotlib.pyplot import figure\n",
        "\n",
        "figure(figsize=(8, 6), dpi=80)\n",
        "\n",
        "plt.plot(F1_LSTM)\n",
        "plt.plot(LSTM_history.history['val_accuracy'])\n",
        "plt.plot(LSTM_history.history['val_precision_10'])\n",
        "plt.plot(LSTM_history.history['val_recall_10'])\n",
        "plt.plot(LSTM_history.history['val_loss'])\n",
        "plt.plot(LSTM_history.history['loss'])\n",
        "plt.title('LSTM model accuracy')\n",
        "plt.xlabel('epoch')\n",
        "plt.legend(['F1','Precision','Especificidad', 'Sensibilidad','Validación Loss','Training Loss'], loc='lower center')\n",
        "plt.show()"
      ],
      "metadata": {
        "id": "LwMwBOwzQaIc"
      },
      "execution_count": null,
      "outputs": []
    },
    {
      "cell_type": "code",
      "source": [
        "F1_BERT= list(2*np.array(BERT_history.history['val_precision_11'])*np.array(BERT_history.history['val_recall_11'])/(np.array(BERT_history.history['val_precision_11'])+ np.array(BERT_history.history['val_recall_11'])))"
      ],
      "metadata": {
        "id": "Px_M11QGXlyj"
      },
      "execution_count": null,
      "outputs": []
    },
    {
      "cell_type": "code",
      "source": [
        "from matplotlib import pyplot as plt\n",
        "from matplotlib.pyplot import figure\n",
        "\n",
        "figure(figsize=(8, 6), dpi=80)\n",
        "\n",
        "\n",
        "plt.plot(F1_BERT)\n",
        "plt.plot(BERT_history.history['val_accuracy'])\n",
        "plt.plot(BERT_history.history['val_precision_11'])\n",
        "plt.plot(BERT_history.history['val_recall_11'])\n",
        "plt.plot(BERT_history.history['val_loss'])\n",
        "plt.plot(BERT_history.history['loss'])\n",
        "plt.title('BERT model accuracy')\n",
        "plt.xlabel('epoch')\n",
        "plt.legend(['F1','Precision','Especificidad', 'Sensibilidad','Validación Loss','Training Loss'], loc='lower center')\n",
        "plt.show()"
      ],
      "metadata": {
        "id": "hrasP-1aSkdK"
      },
      "execution_count": null,
      "outputs": []
    },
    {
      "cell_type": "code",
      "source": [
        "F1_distilBERT= list(2*np.array(DistilBERT_history.history['val_precision_12'])*np.array(DistilBERT_history.history['val_recall_12'])/(np.array(DistilBERT_history.history['val_precision_12'])+ np.array(DistilBERT_history.history['val_recall_12'])))"
      ],
      "metadata": {
        "id": "2jHDs0kTXy7z"
      },
      "execution_count": null,
      "outputs": []
    },
    {
      "cell_type": "code",
      "source": [
        "from matplotlib import pyplot as plt\n",
        "from matplotlib.pyplot import figure\n",
        "\n",
        "figure(figsize=(8, 6), dpi=80)\n",
        "\n",
        "plt.plot(F1_distilBERT)\n",
        "plt.plot(DistilBERT_history.history['val_accuracy'])\n",
        "plt.plot(DistilBERT_history.history['val_precision_12'])\n",
        "plt.plot(DistilBERT_history.history['val_recall_12'])\n",
        "plt.plot(DistilBERT_history.history['val_loss'])\n",
        "plt.plot(DistilBERT_history.history['loss'])\n",
        "plt.title('DistilBERT model accuracy')\n",
        "plt.xlabel('epoch')\n",
        "plt.legend(['F1','Precision','Especificidad', 'Sensibilidad','Validación Loss','Training Loss'], loc='lower center')\n",
        "plt.show()"
      ],
      "metadata": {
        "id": "vHSI48qKTKPS"
      },
      "execution_count": null,
      "outputs": []
    },
    {
      "cell_type": "markdown",
      "source": [
        "#### Objetivo 80% "
      ],
      "metadata": {
        "id": "sdld6_IpuHnD"
      }
    },
    {
      "cell_type": "code",
      "source": [
        "from transformers import DistilBertTokenizer, TFDistilBertModel\n",
        "\n",
        "tokenizer = DistilBertTokenizer.from_pretrained('distilbert-base-cased') \n",
        "distilbert = TFDistilBertModel.from_pretrained('distilbert-base-cased')\n",
        "\n",
        "model = distilbert\n",
        "max_len =20"
      ],
      "metadata": {
        "execution": {
          "iopub.status.busy": "2022-06-18T17:46:42.372083Z",
          "iopub.status.idle": "2022-06-18T17:46:42.372425Z",
          "shell.execute_reply.started": "2022-06-18T17:46:42.372247Z",
          "shell.execute_reply": "2022-06-18T17:46:42.372269Z"
        },
        "trusted": true,
        "id": "pfJhpK_funfh"
      },
      "execution_count": null,
      "outputs": []
    },
    {
      "cell_type": "code",
      "source": [
        "X_train = np.zeros((len(df_training), max_len))\n",
        "X_masks = np.zeros((len(df_training), max_len))"
      ],
      "metadata": {
        "execution": {
          "iopub.status.busy": "2022-06-18T17:46:42.374299Z",
          "iopub.status.idle": "2022-06-18T17:46:42.375056Z",
          "shell.execute_reply.started": "2022-06-18T17:46:42.374789Z",
          "shell.execute_reply": "2022-06-18T17:46:42.374827Z"
        },
        "trusted": true,
        "id": "_inzm-B7unfh"
      },
      "execution_count": null,
      "outputs": []
    },
    {
      "cell_type": "code",
      "source": [
        "for i, text in enumerate(df_training['text']):\n",
        "    tokens = tokenizer.encode_plus(text, max_length= max_len, \\\n",
        "                      truncation=True, padding = \"max_length\", \\\n",
        "                      add_special_tokens =True, return_token_type_ids = False,\n",
        "                     return_attention_mask = True)\n",
        "    \n",
        "    X_train[i,:], X_masks[i,:] = tokens['input_ids'], tokens['attention_mask']"
      ],
      "metadata": {
        "execution": {
          "iopub.status.busy": "2022-06-18T17:46:42.376126Z",
          "iopub.status.idle": "2022-06-18T17:46:42.376485Z",
          "shell.execute_reply.started": "2022-06-18T17:46:42.376297Z",
          "shell.execute_reply": "2022-06-18T17:46:42.376318Z"
        },
        "trusted": true,
        "id": "kzad3gzjunfi"
      },
      "execution_count": null,
      "outputs": []
    },
    {
      "cell_type": "code",
      "source": [
        "labels = np.array(df_training['Y'])"
      ],
      "metadata": {
        "execution": {
          "iopub.status.busy": "2022-06-18T17:46:42.377786Z",
          "iopub.status.idle": "2022-06-18T17:46:42.378157Z",
          "shell.execute_reply.started": "2022-06-18T17:46:42.377978Z",
          "shell.execute_reply": "2022-06-18T17:46:42.378001Z"
        },
        "trusted": true,
        "id": "-urhfXFbunfi"
      },
      "execution_count": null,
      "outputs": []
    },
    {
      "cell_type": "code",
      "source": [
        "with open('X_train.npy','wb') as f:\n",
        "    np.save(f, X_train)\n",
        "with open('X_masks.npy','wb') as f:\n",
        "    np.save(f, X_masks)\n",
        "with open('labels.npy','wb') as f:\n",
        "    np.save(f, labels)"
      ],
      "metadata": {
        "execution": {
          "iopub.status.busy": "2022-06-18T17:46:42.380149Z",
          "iopub.status.idle": "2022-06-18T17:46:42.380827Z",
          "shell.execute_reply.started": "2022-06-18T17:46:42.38061Z",
          "shell.execute_reply": "2022-06-18T17:46:42.380633Z"
        },
        "trusted": true,
        "id": "nXBrcJS2unfi"
      },
      "execution_count": null,
      "outputs": []
    },
    {
      "cell_type": "code",
      "source": [
        "with open('./X_train.npy','rb') as f:\n",
        "    X_train = np.load(f)\n",
        "with open('./X_masks.npy','rb') as f:\n",
        "    X_masks = np.load(f)\n",
        "with open('./labels.npy','rb') as f:\n",
        "    labels = np.load(f)"
      ],
      "metadata": {
        "execution": {
          "iopub.status.busy": "2022-06-18T17:46:42.381931Z",
          "iopub.status.idle": "2022-06-18T17:46:42.382273Z",
          "shell.execute_reply.started": "2022-06-18T17:46:42.382093Z",
          "shell.execute_reply": "2022-06-18T17:46:42.382116Z"
        },
        "trusted": true,
        "id": "-6rMHZEDunfj"
      },
      "execution_count": null,
      "outputs": []
    },
    {
      "cell_type": "code",
      "source": [
        "X_test = np.zeros((len(df_testing), max_len))\n",
        "X_test_masks = np.zeros((len(df_testing), max_len))\n",
        "\n",
        "for i, text in enumerate(df_testing['text']):\n",
        "    tokens = tokenizer.encode_plus(text, max_length= max_len, \\\n",
        "                      truncation=True, padding = \"max_length\", \\\n",
        "                      add_special_tokens =True, return_token_type_ids = False,\n",
        "                     return_attention_mask = True)\n",
        "    \n",
        "    X_test[i,:], X_test_masks[i,:] = tokens['input_ids'], tokens['attention_mask']\n",
        "    \n",
        "test_labels = np.array(df_testing['Y'])\n",
        "\n",
        "with open('X_test.npy','wb') as f:\n",
        "    np.save(f, X_test)\n",
        "with open('X_test_masks.npy','wb') as f:\n",
        "    np.save(f, X_test_masks)\n",
        "with open('test_labels.npy','wb') as f:\n",
        "    np.save(f, test_labels)"
      ],
      "metadata": {
        "id": "us-0odBuwgdv"
      },
      "execution_count": null,
      "outputs": []
    },
    {
      "cell_type": "code",
      "source": [
        "with open('./X_test.npy','rb') as f:\n",
        "    X_test = np.load(f)\n",
        "with open('./X_test_masks.npy','rb') as f:\n",
        "    X_test_masks = np.load(f)\n",
        "with open('./test_labels.npy','rb') as f:\n",
        "    test_labels = np.load(f)"
      ],
      "metadata": {
        "id": "2hj3u1m3wvT_"
      },
      "execution_count": null,
      "outputs": []
    },
    {
      "cell_type": "code",
      "source": [
        "test_dataset = tf.data.Dataset.from_tensor_slices((X_test,X_test_masks,test_labels))\n",
        "\n",
        "def map_func(input_ids, masks , labels):\n",
        "    return {'input_ids': input_ids, 'attention_mask':masks},labels\n",
        "\n",
        "test_dataset = test_dataset.map(map_func)\n",
        "test_dataset = test_dataset.shuffle(1000000).batch(32)"
      ],
      "metadata": {
        "id": "MCoIN-x9wxUb"
      },
      "execution_count": null,
      "outputs": []
    },
    {
      "cell_type": "code",
      "source": [
        "X_train_source = X_train\n",
        "X_masks_source = X_masks\n",
        "labels_source = labels"
      ],
      "metadata": {
        "id": "CaHP7mzEunfj"
      },
      "execution_count": null,
      "outputs": []
    },
    {
      "cell_type": "code",
      "source": [
        "results = [0,0,0,0]\n",
        "results = pd.DataFrame(results).transpose()\n",
        "\n",
        "for prop in [0.05,0.3,0.6, 0.8,1]:\n",
        "  X_train,X_valid,X_masks_train, X_masks_valid,labels_train,labels_valid = train_test_split(X_train_source,X_masks_source,labels_source, train_size = 0.75*prop)\n",
        "\n",
        "  train = tf.data.Dataset.from_tensor_slices((X_train,X_masks_train,labels_train))\n",
        "  validation = tf.data.Dataset.from_tensor_slices((X_valid,X_masks_valid,labels_valid))\n",
        "\n",
        "  def map_func(input_ids, masks , labels):\n",
        "      return {'input_ids': input_ids, 'attention_mask':masks},labels\n",
        "\n",
        "  train = train.map(map_func)\n",
        "  validation = validation.map(map_func)\n",
        "\n",
        "  train = train.shuffle(1000000).batch(32)\n",
        "  validation = validation.shuffle(1000000).batch(32)\n",
        "\n",
        "  DS_LEN = len(list(train))\n",
        "\n",
        "  input_ids = tf.keras.layers.Input(shape=(max_len,), name = 'input_ids', dtype = 'int32')\n",
        "  mask = tf.keras.layers.Input(shape=(max_len,),name = 'attention_mask', dtype = 'int32')\n",
        "\n",
        "  embeddings = distilbert(input_ids,attention_mask = mask)[0]\n",
        "\n",
        "\n",
        "  ####Try to improve this \n",
        "  X = tf.keras.layers.Bidirectional(LSTM(max_len, return_sequences=True))(embeddings)\n",
        "  X = tf.keras.layers.Dense(128, activation = 'selu')(X)\n",
        "  X = tf.keras.layers.GlobalMaxPool1D()(X)\n",
        "  X = tf.keras.layers.Dense(128, activation = 'selu')(X)\n",
        "  X = tf.keras.layers.Dropout(0.3)(X)\n",
        "  X = tf.keras.layers.Dense(128, activation = 'selu')(X)\n",
        "  X = tf.keras.layers.Dropout(0.3)(X)\n",
        "  X = tf.keras.layers.Dense(32, activation = 'selu')(X)\n",
        "  y = tf.keras.layers.Dense(1, activation = 'sigmoid', name = 'outputs')(X)\n",
        "\n",
        "\n",
        "  model = tf.keras.Model(inputs=[input_ids, mask], outputs =y )\n",
        "\n",
        "  model.layers[2].trainable = False\n",
        "\n",
        "\n",
        "  epochs = 20\n",
        "\n",
        "  num_steps = epochs * DS_LEN\n",
        "\n",
        "  optimizer, lr = transformers.create_optimizer(init_lr  = 4e-5, num_train_steps = num_steps,num_warmup_steps = 0.1*num_steps, weight_decay_rate =.01)\n",
        "  model.compile(optimizer=optimizer, loss='binary_crossentropy', metrics=['accuracy',tf.keras.metrics.Recall(),tf.keras.metrics.Precision()])\n",
        "\n",
        "\n",
        "  model.fit(train, validation_data = validation, \n",
        "                                          epochs=epochs, batch_size=32, callbacks=[EarlyStopping(patience=3, restore_best_weights=True), \n",
        "                                        ModelCheckpoint(\"ModeloDistilBert.h5\", save_best_weights=True)])\n",
        "\n",
        "  x = model.evaluate(test_dataset)\n",
        "     \n",
        "  x = pd.DataFrame(x).transpose()\n",
        "\n",
        "  results = pd.concat((results,x), axis=0)\n"
      ],
      "metadata": {
        "id": "vWbyaCt5unfj"
      },
      "execution_count": null,
      "outputs": []
    },
    {
      "cell_type": "code",
      "source": [
        "results = results.iloc[1:,]\n",
        "\n",
        "results.columns = ['Loss','Precision','Sensibilidad','Especificidad']"
      ],
      "metadata": {
        "execution": {
          "iopub.status.busy": "2022-06-18T17:46:42.383969Z",
          "iopub.status.idle": "2022-06-18T17:46:42.384863Z",
          "shell.execute_reply.started": "2022-06-18T17:46:42.384626Z",
          "shell.execute_reply": "2022-06-18T17:46:42.384652Z"
        },
        "trusted": true,
        "id": "YqoCOcI1unfj"
      },
      "execution_count": null,
      "outputs": []
    },
    {
      "cell_type": "code",
      "source": [
        "results['Proporcion'] = [0.05,0.3,0.6, 0.8,1]"
      ],
      "metadata": {
        "id": "yhfpqQD4_SN_"
      },
      "execution_count": null,
      "outputs": []
    },
    {
      "cell_type": "code",
      "source": [
        "results['F1'] = (2*results['Especificidad']*results['Sensibilidad'])/(results['Especificidad']+results['Sensibilidad'])"
      ],
      "metadata": {
        "id": "zrLxvQYe_vzr"
      },
      "execution_count": null,
      "outputs": []
    },
    {
      "cell_type": "code",
      "source": [
        "from matplotlib import pyplot as plt\n",
        "from matplotlib.pyplot import figure\n",
        "\n",
        "figure(figsize=(8, 6), dpi=80)\n",
        "\n",
        "\n",
        "plt.plot(results['F1'])\n",
        "plt.plot(results['Precision'])\n",
        "plt.plot(results['Especificidad'])\n",
        "plt.plot(results['Sensibilidad'])\n",
        "plt.plot(results['Loss'])\n",
        "plt.title('Model accuracy by proportion Database')\n",
        "plt.legend([\"F1\",'Precision','Especificidad', 'Sensibilidad','Loss'], loc='Best')\n",
        "plt.show()"
      ],
      "metadata": {
        "id": "jcYsnNm-_Ykz"
      },
      "execution_count": null,
      "outputs": []
    },
    {
      "cell_type": "code",
      "source": [],
      "metadata": {
        "id": "2HiK7fKf_d4Z"
      },
      "execution_count": null,
      "outputs": []
    }
  ]
}